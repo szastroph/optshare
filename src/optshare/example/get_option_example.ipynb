{
 "cells": [
  {
   "cell_type": "markdown",
   "source": [
    "# optshare example"
   ],
   "metadata": {
    "collapsed": false
   }
  },
  {
   "cell_type": "markdown",
   "source": [
    "## Option data"
   ],
   "metadata": {
    "collapsed": false
   }
  },
  {
   "cell_type": "code",
   "execution_count": 1,
   "outputs": [
    {
     "data": {
      "text/plain": "                代码                名称  最新价  涨跌额      涨跌幅   成交量        成交额  \\\n0    MO2301-P-5600  中证1000沽23年1月5600  0.4  0.2   100.0%    15      320.0   \n1    IO2301-C-4550   沪深300购23年1月4550  0.4  0.2   100.0%    11      240.0   \n2    IO2301-C-4600   沪深300购23年1月4600  0.4  0.2   100.0%    27      560.0   \n3    HO2301-C-3150    上证50购23年1月3150  0.4  0.2   100.0%     5      120.0   \n4    MO2301-C-7200  中证1000购23年1月7200  0.6  0.2    50.0%    26     1000.0   \n..             ...               ...  ...  ...      ...   ...        ...   \n681  IO2301-C-4450   沪深300购23年1月4450  0.4 -0.4   -50.0%     1       40.0   \n682  HO2301-C-2900    上证50购23年1月2900  2.8 -4.0  -58.82%  3984  1769040.0   \n683  IO2301-C-4400   沪深300购23年1月4400  0.4 -0.6   -60.0%   168     9320.0   \n684  IO2301-P-4000   沪深300沽23年1月4000  0.8 -1.4  -63.64%  2015   254440.0   \n685  MO2301-P-6100  中证1000沽23年1月6100  0.2 -0.4  -66.67%   391    12300.0   \n\n      持仓量     行权价  剩余日   日增   昨结   今开  \n0     309  5600.0    3  -13  0.2  0.2  \n1      11  4550.0    3   11  0.2  0.2  \n2      21  4600.0    3   21  0.2  0.2  \n3       5  3150.0    3    5  0.2  0.2  \n4     335  7200.0    3  -14  0.4  0.6  \n..    ...     ...  ...  ...  ...  ...  \n681    57  4450.0    3   -1  0.8  0.4  \n682  2143  2900.0    3  263  6.8  6.4  \n683   705  4400.0    3  -52  1.0  0.8  \n684  4314  4000.0    3 -867  2.2  2.0  \n685   936  6100.0    3 -148  0.6  0.4  \n\n[686 rows x 13 columns]",
      "text/html": "<div>\n<style scoped>\n    .dataframe tbody tr th:only-of-type {\n        vertical-align: middle;\n    }\n\n    .dataframe tbody tr th {\n        vertical-align: top;\n    }\n\n    .dataframe thead th {\n        text-align: right;\n    }\n</style>\n<table border=\"1\" class=\"dataframe\">\n  <thead>\n    <tr style=\"text-align: right;\">\n      <th></th>\n      <th>代码</th>\n      <th>名称</th>\n      <th>最新价</th>\n      <th>涨跌额</th>\n      <th>涨跌幅</th>\n      <th>成交量</th>\n      <th>成交额</th>\n      <th>持仓量</th>\n      <th>行权价</th>\n      <th>剩余日</th>\n      <th>日增</th>\n      <th>昨结</th>\n      <th>今开</th>\n    </tr>\n  </thead>\n  <tbody>\n    <tr>\n      <th>0</th>\n      <td>MO2301-P-5600</td>\n      <td>中证1000沽23年1月5600</td>\n      <td>0.4</td>\n      <td>0.2</td>\n      <td>100.0%</td>\n      <td>15</td>\n      <td>320.0</td>\n      <td>309</td>\n      <td>5600.0</td>\n      <td>3</td>\n      <td>-13</td>\n      <td>0.2</td>\n      <td>0.2</td>\n    </tr>\n    <tr>\n      <th>1</th>\n      <td>IO2301-C-4550</td>\n      <td>沪深300购23年1月4550</td>\n      <td>0.4</td>\n      <td>0.2</td>\n      <td>100.0%</td>\n      <td>11</td>\n      <td>240.0</td>\n      <td>11</td>\n      <td>4550.0</td>\n      <td>3</td>\n      <td>11</td>\n      <td>0.2</td>\n      <td>0.2</td>\n    </tr>\n    <tr>\n      <th>2</th>\n      <td>IO2301-C-4600</td>\n      <td>沪深300购23年1月4600</td>\n      <td>0.4</td>\n      <td>0.2</td>\n      <td>100.0%</td>\n      <td>27</td>\n      <td>560.0</td>\n      <td>21</td>\n      <td>4600.0</td>\n      <td>3</td>\n      <td>21</td>\n      <td>0.2</td>\n      <td>0.2</td>\n    </tr>\n    <tr>\n      <th>3</th>\n      <td>HO2301-C-3150</td>\n      <td>上证50购23年1月3150</td>\n      <td>0.4</td>\n      <td>0.2</td>\n      <td>100.0%</td>\n      <td>5</td>\n      <td>120.0</td>\n      <td>5</td>\n      <td>3150.0</td>\n      <td>3</td>\n      <td>5</td>\n      <td>0.2</td>\n      <td>0.2</td>\n    </tr>\n    <tr>\n      <th>4</th>\n      <td>MO2301-C-7200</td>\n      <td>中证1000购23年1月7200</td>\n      <td>0.6</td>\n      <td>0.2</td>\n      <td>50.0%</td>\n      <td>26</td>\n      <td>1000.0</td>\n      <td>335</td>\n      <td>7200.0</td>\n      <td>3</td>\n      <td>-14</td>\n      <td>0.4</td>\n      <td>0.6</td>\n    </tr>\n    <tr>\n      <th>...</th>\n      <td>...</td>\n      <td>...</td>\n      <td>...</td>\n      <td>...</td>\n      <td>...</td>\n      <td>...</td>\n      <td>...</td>\n      <td>...</td>\n      <td>...</td>\n      <td>...</td>\n      <td>...</td>\n      <td>...</td>\n      <td>...</td>\n    </tr>\n    <tr>\n      <th>681</th>\n      <td>IO2301-C-4450</td>\n      <td>沪深300购23年1月4450</td>\n      <td>0.4</td>\n      <td>-0.4</td>\n      <td>-50.0%</td>\n      <td>1</td>\n      <td>40.0</td>\n      <td>57</td>\n      <td>4450.0</td>\n      <td>3</td>\n      <td>-1</td>\n      <td>0.8</td>\n      <td>0.4</td>\n    </tr>\n    <tr>\n      <th>682</th>\n      <td>HO2301-C-2900</td>\n      <td>上证50购23年1月2900</td>\n      <td>2.8</td>\n      <td>-4.0</td>\n      <td>-58.82%</td>\n      <td>3984</td>\n      <td>1769040.0</td>\n      <td>2143</td>\n      <td>2900.0</td>\n      <td>3</td>\n      <td>263</td>\n      <td>6.8</td>\n      <td>6.4</td>\n    </tr>\n    <tr>\n      <th>683</th>\n      <td>IO2301-C-4400</td>\n      <td>沪深300购23年1月4400</td>\n      <td>0.4</td>\n      <td>-0.6</td>\n      <td>-60.0%</td>\n      <td>168</td>\n      <td>9320.0</td>\n      <td>705</td>\n      <td>4400.0</td>\n      <td>3</td>\n      <td>-52</td>\n      <td>1.0</td>\n      <td>0.8</td>\n    </tr>\n    <tr>\n      <th>684</th>\n      <td>IO2301-P-4000</td>\n      <td>沪深300沽23年1月4000</td>\n      <td>0.8</td>\n      <td>-1.4</td>\n      <td>-63.64%</td>\n      <td>2015</td>\n      <td>254440.0</td>\n      <td>4314</td>\n      <td>4000.0</td>\n      <td>3</td>\n      <td>-867</td>\n      <td>2.2</td>\n      <td>2.0</td>\n    </tr>\n    <tr>\n      <th>685</th>\n      <td>MO2301-P-6100</td>\n      <td>中证1000沽23年1月6100</td>\n      <td>0.2</td>\n      <td>-0.4</td>\n      <td>-66.67%</td>\n      <td>391</td>\n      <td>12300.0</td>\n      <td>936</td>\n      <td>6100.0</td>\n      <td>3</td>\n      <td>-148</td>\n      <td>0.6</td>\n      <td>0.4</td>\n    </tr>\n  </tbody>\n</table>\n<p>686 rows × 13 columns</p>\n</div>"
     },
     "execution_count": 1,
     "metadata": {},
     "output_type": "execute_result"
    }
   ],
   "source": [
    "import optshare\n",
    "optshare.get_ccfex_option(underlying_symbol=None)\n"
   ],
   "metadata": {
    "collapsed": false
   }
  },
  {
   "cell_type": "code",
   "execution_count": null,
   "outputs": [],
   "source": [],
   "metadata": {
    "collapsed": false
   }
  }
 ],
 "metadata": {
  "kernelspec": {
   "display_name": "Python 3",
   "language": "python",
   "name": "python3"
  },
  "language_info": {
   "codemirror_mode": {
    "name": "ipython",
    "version": 2
   },
   "file_extension": ".py",
   "mimetype": "text/x-python",
   "name": "python",
   "nbconvert_exporter": "python",
   "pygments_lexer": "ipython2",
   "version": "2.7.6"
  }
 },
 "nbformat": 4,
 "nbformat_minor": 0
}
