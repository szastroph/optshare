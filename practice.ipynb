{
 "cells": [
  {
   "cell_type": "code",
   "execution_count": null,
   "metadata": {
    "collapsed": true
   },
   "outputs": [],
   "source": [
    "url = \"http://nufm.dfcfw.com/EM_Finance2014NumericApplication/JS.aspx?cb=jQuery112404462275420342996_1542343049719&type=CT&token=4f1862fc3b5e77c150a2b985b12db0fd&sty=FCOIATC&js=(%7Bdata%3A%5B(x)%5D%2CrecordsFiltered%3A(tot)%7D)&cmd=C._A&st=(ChangePercent)&sr=-1&p=1&ps=20&_=1542343050897\""
   ]
  },
  {
   "cell_type": "code",
   "execution_count": null,
   "outputs": [],
   "source": [
    "\"\"\"\n",
    "Desc: 东方财富网-行情中心-期权市场\n",
    "http://quote.eastmoney.com/center\n",
    "\"\"\"\n",
    "# same logic\n",
    "# 返回所有的期权：http://quote.eastmoney.com/center/qqsc.html\n",
    "\n",
    "# 上交所全部期权\n",
    "# target_url http://quote.eastmoney.com/center/gridlist.html#options_sh50etf_all\n",
    "\n",
    "# 深交所全部期权\n",
    "# target url http://quote.eastmoney.com/center/gridlist.html#options_szetf_all\n",
    "\n",
    "# 中金所全部期权\n",
    "# target url http://quote.eastmoney.com/center/gridlist.html#options_cffex_all"
   ],
   "metadata": {
    "collapsed": false
   }
  },
  {
   "cell_type": "code",
   "execution_count": 15,
   "outputs": [
    {
     "data": {
      "text/plain": "             代码              名称   最新价   涨跌额     涨跌幅   成交量      成交额    持仓量  \\\n0  cu2304P52000  沪铜23年04月沽52000  44.0  42.0  2100.0  72.0  15300.0  423.0   \n1     i2304p620   铁矿石23年04月沽620   2.1   2.0  2000.0   1.0    210.0    9.0   \n2  cu2303P54000  沪铜23年03月沽54000  42.0  40.0  2000.0  10.0   1920.0  151.0   \n3     i2304p610   铁矿石23年04月沽610   1.7   1.6  1600.0   1.0    170.0    8.0   \n4     i2304p500   铁矿石23年04月沽500   1.7   1.6  1600.0   8.0    740.0   62.0   \n\n   行权价  剩余日    日增   昨结    今开  \n0  NaN  NaN  49.0  2.0  46.0  \n1  NaN  NaN  -1.0  0.1   2.1  \n2  NaN  NaN  -6.0  2.0  28.0  \n3  NaN  NaN  -1.0  0.1   1.7  \n4  NaN  NaN   4.0  0.1   0.1  ",
      "text/html": "<div>\n<style scoped>\n    .dataframe tbody tr th:only-of-type {\n        vertical-align: middle;\n    }\n\n    .dataframe tbody tr th {\n        vertical-align: top;\n    }\n\n    .dataframe thead th {\n        text-align: right;\n    }\n</style>\n<table border=\"1\" class=\"dataframe\">\n  <thead>\n    <tr style=\"text-align: right;\">\n      <th></th>\n      <th>代码</th>\n      <th>名称</th>\n      <th>最新价</th>\n      <th>涨跌额</th>\n      <th>涨跌幅</th>\n      <th>成交量</th>\n      <th>成交额</th>\n      <th>持仓量</th>\n      <th>行权价</th>\n      <th>剩余日</th>\n      <th>日增</th>\n      <th>昨结</th>\n      <th>今开</th>\n    </tr>\n  </thead>\n  <tbody>\n    <tr>\n      <th>0</th>\n      <td>cu2304P52000</td>\n      <td>沪铜23年04月沽52000</td>\n      <td>44.0</td>\n      <td>42.0</td>\n      <td>2100.0</td>\n      <td>72.0</td>\n      <td>15300.0</td>\n      <td>423.0</td>\n      <td>NaN</td>\n      <td>NaN</td>\n      <td>49.0</td>\n      <td>2.0</td>\n      <td>46.0</td>\n    </tr>\n    <tr>\n      <th>1</th>\n      <td>i2304p620</td>\n      <td>铁矿石23年04月沽620</td>\n      <td>2.1</td>\n      <td>2.0</td>\n      <td>2000.0</td>\n      <td>1.0</td>\n      <td>210.0</td>\n      <td>9.0</td>\n      <td>NaN</td>\n      <td>NaN</td>\n      <td>-1.0</td>\n      <td>0.1</td>\n      <td>2.1</td>\n    </tr>\n    <tr>\n      <th>2</th>\n      <td>cu2303P54000</td>\n      <td>沪铜23年03月沽54000</td>\n      <td>42.0</td>\n      <td>40.0</td>\n      <td>2000.0</td>\n      <td>10.0</td>\n      <td>1920.0</td>\n      <td>151.0</td>\n      <td>NaN</td>\n      <td>NaN</td>\n      <td>-6.0</td>\n      <td>2.0</td>\n      <td>28.0</td>\n    </tr>\n    <tr>\n      <th>3</th>\n      <td>i2304p610</td>\n      <td>铁矿石23年04月沽610</td>\n      <td>1.7</td>\n      <td>1.6</td>\n      <td>1600.0</td>\n      <td>1.0</td>\n      <td>170.0</td>\n      <td>8.0</td>\n      <td>NaN</td>\n      <td>NaN</td>\n      <td>-1.0</td>\n      <td>0.1</td>\n      <td>1.7</td>\n    </tr>\n    <tr>\n      <th>4</th>\n      <td>i2304p500</td>\n      <td>铁矿石23年04月沽500</td>\n      <td>1.7</td>\n      <td>1.6</td>\n      <td>1600.0</td>\n      <td>8.0</td>\n      <td>740.0</td>\n      <td>62.0</td>\n      <td>NaN</td>\n      <td>NaN</td>\n      <td>4.0</td>\n      <td>0.1</td>\n      <td>0.1</td>\n    </tr>\n  </tbody>\n</table>\n</div>"
     },
     "execution_count": 15,
     "metadata": {},
     "output_type": "execute_result"
    }
   ],
   "source": [
    "import json\n",
    "import requests\n",
    "import pandas as pd\n",
    "\n",
    "url = 'http://98.push2.eastmoney.com/api/qt/clist/get'\n",
    "params ={\n",
    "    'cb': 'jQuery11240028745663294216683_1673331486150',\n",
    "    'pn': '1',\n",
    "    'pz': '200000',\n",
    "    'po': '1',\n",
    "    'np': '1',\n",
    "    'ut':'bd1d9ddb04089700cf9c27f6f7426281',\n",
    "    'fltt': '2',\n",
    "    'invt': '2',\n",
    "    'fid': 'f3',\n",
    "    'fs': 'm:10,m:140,m:141,m:151,m:163',\n",
    "    'fields': 'f1,f2,f3,f4,f5,f6,f7,f8,f9,f10,f12,f13,f14,f15,f16,f17,f18,f20,f21,f23,f24,f25,f22,f28,f11,f62,f128,f136,f115,f152,f133,f108,f163,f161,f162',\n",
    "    '_': '1673331486214'\n",
    "}\n",
    "\n",
    "r = requests.get(url, params=params)\n",
    "data_text = r.text\n",
    "data_json = json.loads(data_text[data_text.find('{'):-2])\n",
    "temp_df = pd.DataFrame(data_json['data']['diff'])\n",
    "temp_df.columns = [\n",
    "    '_',\n",
    "    '最新价',\n",
    "    '涨跌幅',\n",
    "    '涨跌额',\n",
    "    '成交量',\n",
    "    '成交额',\n",
    "    '_',\n",
    "    '_',\n",
    "    '_',\n",
    "    '_',\n",
    "    '_',\n",
    "    '代码',\n",
    "    '_',\n",
    "    '名称',\n",
    "    '_',\n",
    "    '_',\n",
    "    '今开',\n",
    "    '_',\n",
    "    '_',\n",
    "    '_',\n",
    "    '_',\n",
    "    '_',\n",
    "    '_',\n",
    "    '_',\n",
    "    '昨结',\n",
    "    '_',\n",
    "    '持仓量',\n",
    "    '_',\n",
    "    '_',\n",
    "    '_',\n",
    "    '_',\n",
    "    '_',\n",
    "    '_',\n",
    "    '_',\n",
    "    '行权价',\n",
    "    '剩余日',\n",
    "    '日增'\n",
    "]\n",
    "temp_df = temp_df[[\n",
    "    '代码',\n",
    "    '名称',\n",
    "    '最新价',\n",
    "    '涨跌额',\n",
    "    '涨跌幅',\n",
    "    '成交量',\n",
    "    '成交额',\n",
    "    '持仓量',\n",
    "    '行权价',\n",
    "    '剩余日',\n",
    "    '日增',\n",
    "    '昨结',\n",
    "    '今开'\n",
    "]]\n",
    "temp_df['最新价'] = pd.to_numeric(temp_df['最新价'], errors='coerce')\n",
    "temp_df['涨跌额'] = pd.to_numeric(temp_df['涨跌额'], errors='coerce')\n",
    "temp_df['涨跌幅'] = pd.to_numeric(temp_df['涨跌幅'], errors='coerce')\n",
    "temp_df['成交量'] = pd.to_numeric(temp_df['成交量'], errors='coerce')\n",
    "temp_df['成交额'] = pd.to_numeric(temp_df['成交额'], errors='coerce')\n",
    "temp_df['持仓量'] = pd.to_numeric(temp_df['持仓量'], errors='coerce')\n",
    "temp_df['行权价'] = pd.to_numeric(temp_df['行权价'], errors='coerce')\n",
    "temp_df['剩余日'] = pd.to_numeric(temp_df['剩余日'], errors='coerce')\n",
    "temp_df['日增'] = pd.to_numeric(temp_df['日增'], errors='coerce')\n",
    "temp_df['昨结'] = pd.to_numeric(temp_df['昨结'], errors='coerce')\n",
    "temp_df['今开'] = pd.to_numeric(temp_df['今开'], errors='coerce')\n",
    "\n",
    "\n",
    "temp_df.head()"
   ],
   "metadata": {
    "collapsed": false
   }
  },
  {
   "cell_type": "code",
   "execution_count": 17,
   "outputs": [
    {
     "data": {
      "text/plain": "                 代码              名称   最新价    涨跌额      涨跌幅    成交量      成交额  \\\n0      cu2304P52000  沪铜23年04月沽52000  44.0   42.0  2100.00   72.0  15300.0   \n1         i2304p620   铁矿石23年04月沽620   2.1    2.0  2000.00    1.0    210.0   \n2      cu2303P54000  沪铜23年03月沽54000  42.0   40.0  2000.00   10.0   1920.0   \n3         i2304p610   铁矿石23年04月沽610   1.7    1.6  1600.00    1.0    170.0   \n4         i2304p500   铁矿石23年04月沽500   1.7    1.6  1600.00    8.0    740.0   \n...             ...             ...   ...    ...      ...    ...      ...   \n11323   pg2303p3450  LPG23年03月沽3450   1.0   -4.8   -82.76   89.0   1740.0   \n11324   pg2303p3550  LPG23年03月沽3550   2.0   -9.8   -83.05   26.0   1148.0   \n11325   pg2303p3650  LPG23年03月沽3650   3.6  -18.6   -83.78  367.0  37548.0   \n11326   pg2303p3500  LPG23年03月沽3500   1.2   -7.2   -85.71   50.0   1360.0   \n11327   ag2308P4650   沪银23年08月沽4650   2.0 -112.0   -98.25    2.0   1695.0   \n\n         持仓量  行权价  剩余日     日增     昨结     今开  \n0      423.0  NaN  NaN   49.0    2.0   46.0  \n1        9.0  NaN  NaN   -1.0    0.1    2.1  \n2      151.0  NaN  NaN   -6.0    2.0   28.0  \n3        8.0  NaN  NaN   -1.0    0.1    1.7  \n4       62.0  NaN  NaN    4.0    0.1    0.1  \n...      ...  ...  ...    ...    ...    ...  \n11323   83.0  NaN  NaN   79.0    5.8    0.8  \n11324   21.0  NaN  NaN    NaN   11.8    3.4  \n11325  270.0  NaN  NaN  269.0   22.2    5.8  \n11326   46.0  NaN  NaN   45.0    8.4    1.4  \n11327    3.0  NaN  NaN    2.0  114.0  111.0  \n\n[11328 rows x 13 columns]",
      "text/html": "<div>\n<style scoped>\n    .dataframe tbody tr th:only-of-type {\n        vertical-align: middle;\n    }\n\n    .dataframe tbody tr th {\n        vertical-align: top;\n    }\n\n    .dataframe thead th {\n        text-align: right;\n    }\n</style>\n<table border=\"1\" class=\"dataframe\">\n  <thead>\n    <tr style=\"text-align: right;\">\n      <th></th>\n      <th>代码</th>\n      <th>名称</th>\n      <th>最新价</th>\n      <th>涨跌额</th>\n      <th>涨跌幅</th>\n      <th>成交量</th>\n      <th>成交额</th>\n      <th>持仓量</th>\n      <th>行权价</th>\n      <th>剩余日</th>\n      <th>日增</th>\n      <th>昨结</th>\n      <th>今开</th>\n    </tr>\n  </thead>\n  <tbody>\n    <tr>\n      <th>0</th>\n      <td>cu2304P52000</td>\n      <td>沪铜23年04月沽52000</td>\n      <td>44.0</td>\n      <td>42.0</td>\n      <td>2100.00</td>\n      <td>72.0</td>\n      <td>15300.0</td>\n      <td>423.0</td>\n      <td>NaN</td>\n      <td>NaN</td>\n      <td>49.0</td>\n      <td>2.0</td>\n      <td>46.0</td>\n    </tr>\n    <tr>\n      <th>1</th>\n      <td>i2304p620</td>\n      <td>铁矿石23年04月沽620</td>\n      <td>2.1</td>\n      <td>2.0</td>\n      <td>2000.00</td>\n      <td>1.0</td>\n      <td>210.0</td>\n      <td>9.0</td>\n      <td>NaN</td>\n      <td>NaN</td>\n      <td>-1.0</td>\n      <td>0.1</td>\n      <td>2.1</td>\n    </tr>\n    <tr>\n      <th>2</th>\n      <td>cu2303P54000</td>\n      <td>沪铜23年03月沽54000</td>\n      <td>42.0</td>\n      <td>40.0</td>\n      <td>2000.00</td>\n      <td>10.0</td>\n      <td>1920.0</td>\n      <td>151.0</td>\n      <td>NaN</td>\n      <td>NaN</td>\n      <td>-6.0</td>\n      <td>2.0</td>\n      <td>28.0</td>\n    </tr>\n    <tr>\n      <th>3</th>\n      <td>i2304p610</td>\n      <td>铁矿石23年04月沽610</td>\n      <td>1.7</td>\n      <td>1.6</td>\n      <td>1600.00</td>\n      <td>1.0</td>\n      <td>170.0</td>\n      <td>8.0</td>\n      <td>NaN</td>\n      <td>NaN</td>\n      <td>-1.0</td>\n      <td>0.1</td>\n      <td>1.7</td>\n    </tr>\n    <tr>\n      <th>4</th>\n      <td>i2304p500</td>\n      <td>铁矿石23年04月沽500</td>\n      <td>1.7</td>\n      <td>1.6</td>\n      <td>1600.00</td>\n      <td>8.0</td>\n      <td>740.0</td>\n      <td>62.0</td>\n      <td>NaN</td>\n      <td>NaN</td>\n      <td>4.0</td>\n      <td>0.1</td>\n      <td>0.1</td>\n    </tr>\n    <tr>\n      <th>...</th>\n      <td>...</td>\n      <td>...</td>\n      <td>...</td>\n      <td>...</td>\n      <td>...</td>\n      <td>...</td>\n      <td>...</td>\n      <td>...</td>\n      <td>...</td>\n      <td>...</td>\n      <td>...</td>\n      <td>...</td>\n      <td>...</td>\n    </tr>\n    <tr>\n      <th>11323</th>\n      <td>pg2303p3450</td>\n      <td>LPG23年03月沽3450</td>\n      <td>1.0</td>\n      <td>-4.8</td>\n      <td>-82.76</td>\n      <td>89.0</td>\n      <td>1740.0</td>\n      <td>83.0</td>\n      <td>NaN</td>\n      <td>NaN</td>\n      <td>79.0</td>\n      <td>5.8</td>\n      <td>0.8</td>\n    </tr>\n    <tr>\n      <th>11324</th>\n      <td>pg2303p3550</td>\n      <td>LPG23年03月沽3550</td>\n      <td>2.0</td>\n      <td>-9.8</td>\n      <td>-83.05</td>\n      <td>26.0</td>\n      <td>1148.0</td>\n      <td>21.0</td>\n      <td>NaN</td>\n      <td>NaN</td>\n      <td>NaN</td>\n      <td>11.8</td>\n      <td>3.4</td>\n    </tr>\n    <tr>\n      <th>11325</th>\n      <td>pg2303p3650</td>\n      <td>LPG23年03月沽3650</td>\n      <td>3.6</td>\n      <td>-18.6</td>\n      <td>-83.78</td>\n      <td>367.0</td>\n      <td>37548.0</td>\n      <td>270.0</td>\n      <td>NaN</td>\n      <td>NaN</td>\n      <td>269.0</td>\n      <td>22.2</td>\n      <td>5.8</td>\n    </tr>\n    <tr>\n      <th>11326</th>\n      <td>pg2303p3500</td>\n      <td>LPG23年03月沽3500</td>\n      <td>1.2</td>\n      <td>-7.2</td>\n      <td>-85.71</td>\n      <td>50.0</td>\n      <td>1360.0</td>\n      <td>46.0</td>\n      <td>NaN</td>\n      <td>NaN</td>\n      <td>45.0</td>\n      <td>8.4</td>\n      <td>1.4</td>\n    </tr>\n    <tr>\n      <th>11327</th>\n      <td>ag2308P4650</td>\n      <td>沪银23年08月沽4650</td>\n      <td>2.0</td>\n      <td>-112.0</td>\n      <td>-98.25</td>\n      <td>2.0</td>\n      <td>1695.0</td>\n      <td>3.0</td>\n      <td>NaN</td>\n      <td>NaN</td>\n      <td>2.0</td>\n      <td>114.0</td>\n      <td>111.0</td>\n    </tr>\n  </tbody>\n</table>\n<p>11328 rows × 13 columns</p>\n</div>"
     },
     "execution_count": 17,
     "metadata": {},
     "output_type": "execute_result"
    }
   ],
   "source": [
    "temp_df"
   ],
   "metadata": {
    "collapsed": false
   }
  },
  {
   "cell_type": "code",
   "execution_count": 21,
   "outputs": [
    {
     "data": {
      "text/plain": "'jQuery112409888319082959067_1673333526880({\"rc\":102,\"rt\":1,\"svr\":2887034885,\"lt\":1,\"full\":1,\"dlmkts\":\"\",\"data\":null});'"
     },
     "execution_count": 21,
     "metadata": {},
     "output_type": "execute_result"
    }
   ],
   "source": [
    "#http://push2.eastmoney.com/api/qt/kamt/get?fields1=f1,f2,f3,f4&fields2=f51,f52,f53,f54&ut=b2884a393a59ad64002292a3e90d46a5&cb=jQuery112409888319082959067_1673333526880&_=1673333527050\n",
    "#todo: bug below\n",
    "url = 'http://push2.eastmoney.com/api/qt/kamt/get'\n",
    "params = {\n",
    "    'ut': 'b2884a393a59ad64002292a3e90d46a5',\n",
    "    'cb': 'jQuery112409888319082959067_1673333526880',\n",
    "    'fields': 'f1,f2,f3,f4',\n",
    "    'fields2': 'f51,f52,f53,f54',\n",
    "    '_': '1673333527050',\n",
    "\n",
    "}\n",
    "\n",
    "r = requests.get(url, params=params)\n",
    "data_text = r.text\n",
    "data_text\n"
   ],
   "metadata": {
    "collapsed": false
   }
  },
  {
   "cell_type": "code",
   "execution_count": null,
   "outputs": [],
   "source": [],
   "metadata": {
    "collapsed": false
   }
  }
 ],
 "metadata": {
  "kernelspec": {
   "display_name": "Python 3",
   "language": "python",
   "name": "python3"
  },
  "language_info": {
   "codemirror_mode": {
    "name": "ipython",
    "version": 2
   },
   "file_extension": ".py",
   "mimetype": "text/x-python",
   "name": "python",
   "nbconvert_exporter": "python",
   "pygments_lexer": "ipython2",
   "version": "2.7.6"
  }
 },
 "nbformat": 4,
 "nbformat_minor": 0
}
