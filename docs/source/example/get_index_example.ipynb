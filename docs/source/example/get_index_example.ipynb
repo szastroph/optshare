{
 "cells": [
  {
   "cell_type": "markdown",
   "source": [
    "# 指数相关数据"
   ],
   "metadata": {
    "collapsed": false
   }
  },
  {
   "cell_type": "code",
   "execution_count": 1,
   "outputs": [],
   "source": [
    "import optshare"
   ],
   "metadata": {
    "collapsed": false
   }
  },
  {
   "cell_type": "markdown",
   "source": [
    "## 返回当前所有指数数据"
   ],
   "metadata": {
    "collapsed": false
   }
  },
  {
   "cell_type": "code",
   "execution_count": 4,
   "outputs": [
    {
     "data": {
      "text/plain": "          代码          名称       最新价     涨跌幅     涨跌额         成交量           成交额  \\\n0     H50009       180通信   1852.09   6.04%  105.45  17185214.0  1.136657e+10   \n1     931456        中国教育   1343.66   4.49%   57.71   9147148.0  7.269013e+09   \n2     483074  深港通零售R（港币）   5734.42   4.37%  240.00   4190938.0  6.269328e+09   \n3     983074   深港通零售（港币）   5418.76   4.37%  226.78   4190938.0  6.269328e+09   \n4     399232        采矿指数   2801.22   4.29%  115.28   7200274.0  8.387758e+09   \n...      ...         ...       ...     ...     ...         ...           ...   \n1419  000074        消费等权  10476.16  -0.83%  -88.00   2334374.0  1.545861e+10   \n1420  H50005       180消费  21752.45  -0.88% -193.58   1395458.0  1.257095e+10   \n1421  399441        生物医药   3835.02  -0.92%  -35.75   2365969.0  1.389541e+10   \n1422  H50047       180反两    506.94  -1.49%   -7.66  93294901.0  1.317127e+11   \n1423  930774       100反两    195.41  -1.61%   -3.19  70199111.0  1.299794e+11   \n\n        振幅        最高        最低        今开        昨收    量比  \n0     6.27   1862.47   1753.04   1753.04   1746.64  2.75  \n1     4.52   1343.95   1285.82   1285.93   1285.95  0.95  \n2     2.81   5758.77   5604.12   5604.14   5494.42  0.25  \n3     2.81   5441.78   5295.64   5295.66   5191.98  0.25  \n4     3.87   2808.92   2704.87   2710.68   2685.94  2.08  \n...    ...       ...       ...       ...       ...   ...  \n1419  2.00  10672.50  10461.37  10589.23  10564.16  0.77  \n1420  1.99  22158.94  21722.14  22053.10  21946.03  0.80  \n1421  1.93   3905.85   3831.11   3865.80   3870.77  0.72  \n1422  1.58    513.16    505.01    511.75    514.60  1.30  \n1423  1.65    197.65    194.37    197.36    198.60  1.44  \n\n[1424 rows x 13 columns]",
      "text/html": "<div>\n<style scoped>\n    .dataframe tbody tr th:only-of-type {\n        vertical-align: middle;\n    }\n\n    .dataframe tbody tr th {\n        vertical-align: top;\n    }\n\n    .dataframe thead th {\n        text-align: right;\n    }\n</style>\n<table border=\"1\" class=\"dataframe\">\n  <thead>\n    <tr style=\"text-align: right;\">\n      <th></th>\n      <th>代码</th>\n      <th>名称</th>\n      <th>最新价</th>\n      <th>涨跌幅</th>\n      <th>涨跌额</th>\n      <th>成交量</th>\n      <th>成交额</th>\n      <th>振幅</th>\n      <th>最高</th>\n      <th>最低</th>\n      <th>今开</th>\n      <th>昨收</th>\n      <th>量比</th>\n    </tr>\n  </thead>\n  <tbody>\n    <tr>\n      <th>0</th>\n      <td>H50009</td>\n      <td>180通信</td>\n      <td>1852.09</td>\n      <td>6.04%</td>\n      <td>105.45</td>\n      <td>17185214.0</td>\n      <td>1.136657e+10</td>\n      <td>6.27</td>\n      <td>1862.47</td>\n      <td>1753.04</td>\n      <td>1753.04</td>\n      <td>1746.64</td>\n      <td>2.75</td>\n    </tr>\n    <tr>\n      <th>1</th>\n      <td>931456</td>\n      <td>中国教育</td>\n      <td>1343.66</td>\n      <td>4.49%</td>\n      <td>57.71</td>\n      <td>9147148.0</td>\n      <td>7.269013e+09</td>\n      <td>4.52</td>\n      <td>1343.95</td>\n      <td>1285.82</td>\n      <td>1285.93</td>\n      <td>1285.95</td>\n      <td>0.95</td>\n    </tr>\n    <tr>\n      <th>2</th>\n      <td>483074</td>\n      <td>深港通零售R（港币）</td>\n      <td>5734.42</td>\n      <td>4.37%</td>\n      <td>240.00</td>\n      <td>4190938.0</td>\n      <td>6.269328e+09</td>\n      <td>2.81</td>\n      <td>5758.77</td>\n      <td>5604.12</td>\n      <td>5604.14</td>\n      <td>5494.42</td>\n      <td>0.25</td>\n    </tr>\n    <tr>\n      <th>3</th>\n      <td>983074</td>\n      <td>深港通零售（港币）</td>\n      <td>5418.76</td>\n      <td>4.37%</td>\n      <td>226.78</td>\n      <td>4190938.0</td>\n      <td>6.269328e+09</td>\n      <td>2.81</td>\n      <td>5441.78</td>\n      <td>5295.64</td>\n      <td>5295.66</td>\n      <td>5191.98</td>\n      <td>0.25</td>\n    </tr>\n    <tr>\n      <th>4</th>\n      <td>399232</td>\n      <td>采矿指数</td>\n      <td>2801.22</td>\n      <td>4.29%</td>\n      <td>115.28</td>\n      <td>7200274.0</td>\n      <td>8.387758e+09</td>\n      <td>3.87</td>\n      <td>2808.92</td>\n      <td>2704.87</td>\n      <td>2710.68</td>\n      <td>2685.94</td>\n      <td>2.08</td>\n    </tr>\n    <tr>\n      <th>...</th>\n      <td>...</td>\n      <td>...</td>\n      <td>...</td>\n      <td>...</td>\n      <td>...</td>\n      <td>...</td>\n      <td>...</td>\n      <td>...</td>\n      <td>...</td>\n      <td>...</td>\n      <td>...</td>\n      <td>...</td>\n      <td>...</td>\n    </tr>\n    <tr>\n      <th>1419</th>\n      <td>000074</td>\n      <td>消费等权</td>\n      <td>10476.16</td>\n      <td>-0.83%</td>\n      <td>-88.00</td>\n      <td>2334374.0</td>\n      <td>1.545861e+10</td>\n      <td>2.00</td>\n      <td>10672.50</td>\n      <td>10461.37</td>\n      <td>10589.23</td>\n      <td>10564.16</td>\n      <td>0.77</td>\n    </tr>\n    <tr>\n      <th>1420</th>\n      <td>H50005</td>\n      <td>180消费</td>\n      <td>21752.45</td>\n      <td>-0.88%</td>\n      <td>-193.58</td>\n      <td>1395458.0</td>\n      <td>1.257095e+10</td>\n      <td>1.99</td>\n      <td>22158.94</td>\n      <td>21722.14</td>\n      <td>22053.10</td>\n      <td>21946.03</td>\n      <td>0.80</td>\n    </tr>\n    <tr>\n      <th>1421</th>\n      <td>399441</td>\n      <td>生物医药</td>\n      <td>3835.02</td>\n      <td>-0.92%</td>\n      <td>-35.75</td>\n      <td>2365969.0</td>\n      <td>1.389541e+10</td>\n      <td>1.93</td>\n      <td>3905.85</td>\n      <td>3831.11</td>\n      <td>3865.80</td>\n      <td>3870.77</td>\n      <td>0.72</td>\n    </tr>\n    <tr>\n      <th>1422</th>\n      <td>H50047</td>\n      <td>180反两</td>\n      <td>506.94</td>\n      <td>-1.49%</td>\n      <td>-7.66</td>\n      <td>93294901.0</td>\n      <td>1.317127e+11</td>\n      <td>1.58</td>\n      <td>513.16</td>\n      <td>505.01</td>\n      <td>511.75</td>\n      <td>514.60</td>\n      <td>1.30</td>\n    </tr>\n    <tr>\n      <th>1423</th>\n      <td>930774</td>\n      <td>100反两</td>\n      <td>195.41</td>\n      <td>-1.61%</td>\n      <td>-3.19</td>\n      <td>70199111.0</td>\n      <td>1.299794e+11</td>\n      <td>1.65</td>\n      <td>197.65</td>\n      <td>194.37</td>\n      <td>197.36</td>\n      <td>198.60</td>\n      <td>1.44</td>\n    </tr>\n  </tbody>\n</table>\n<p>1424 rows × 13 columns</p>\n</div>"
     },
     "execution_count": 4,
     "metadata": {},
     "output_type": "execute_result"
    }
   ],
   "source": [
    "optshare.get_current_index()"
   ],
   "metadata": {
    "collapsed": false
   }
  },
  {
   "cell_type": "markdown",
   "source": [
    "## 根据指数代码，返回当前指数数据"
   ],
   "metadata": {
    "collapsed": false
   }
  },
  {
   "cell_type": "code",
   "execution_count": 6,
   "outputs": [
    {
     "data": {
      "text/plain": "          代码     名称      最新价     涨跌幅   涨跌额         成交量           成交额    振幅  \\\n1012  000300  沪深300  4135.35  -0.05% -1.89  39183331.0  8.532810e+10  0.62   \n\n           最高       最低      今开       昨收   量比  \n1012  4151.46  4125.77  4140.1  4137.24  1.1  ",
      "text/html": "<div>\n<style scoped>\n    .dataframe tbody tr th:only-of-type {\n        vertical-align: middle;\n    }\n\n    .dataframe tbody tr th {\n        vertical-align: top;\n    }\n\n    .dataframe thead th {\n        text-align: right;\n    }\n</style>\n<table border=\"1\" class=\"dataframe\">\n  <thead>\n    <tr style=\"text-align: right;\">\n      <th></th>\n      <th>代码</th>\n      <th>名称</th>\n      <th>最新价</th>\n      <th>涨跌幅</th>\n      <th>涨跌额</th>\n      <th>成交量</th>\n      <th>成交额</th>\n      <th>振幅</th>\n      <th>最高</th>\n      <th>最低</th>\n      <th>今开</th>\n      <th>昨收</th>\n      <th>量比</th>\n    </tr>\n  </thead>\n  <tbody>\n    <tr>\n      <th>1012</th>\n      <td>000300</td>\n      <td>沪深300</td>\n      <td>4135.35</td>\n      <td>-0.05%</td>\n      <td>-1.89</td>\n      <td>39183331.0</td>\n      <td>8.532810e+10</td>\n      <td>0.62</td>\n      <td>4151.46</td>\n      <td>4125.77</td>\n      <td>4140.1</td>\n      <td>4137.24</td>\n      <td>1.1</td>\n    </tr>\n  </tbody>\n</table>\n</div>"
     },
     "execution_count": 6,
     "metadata": {},
     "output_type": "execute_result"
    }
   ],
   "source": [
    "optshare.get_current_index('000300')"
   ],
   "metadata": {
    "collapsed": false
   }
  },
  {
   "cell_type": "markdown",
   "source": [
    "## 根据指数代码以及日期区间，返回历史时段内的相应指数信息"
   ],
   "metadata": {
    "collapsed": false
   }
  },
  {
   "cell_type": "code",
   "execution_count": 7,
   "outputs": [
    {
     "data": {
      "text/plain": "            日期       开盘       收盘       最高       最低        成交量           成交额  \\\n0   2023-01-03  3864.84  3887.90  3893.99  3831.25  115051875  2.075402e+11   \n1   2023-01-04  3886.25  3892.95  3905.90  3873.65  110660743  1.989977e+11   \n2   2023-01-05  3913.49  3968.58  3974.88  3912.26  116502395  2.563126e+11   \n3   2023-01-06  3969.55  3980.89  4000.41  3966.47  110953038  2.357443e+11   \n4   2023-01-09  3998.53  4013.12  4023.09  3990.71  117054425  2.332124e+11   \n5   2023-01-10  4014.71  4017.47  4030.46  4002.23  101751141  2.148712e+11   \n6   2023-01-11  4019.88  4010.03  4043.40  4008.02   99997889  2.030003e+11   \n7   2023-01-12  4021.75  4017.87  4030.29  4003.51   90552627  1.836863e+11   \n8   2023-01-13  4032.29  4074.38  4074.38  4027.89   95871896  2.121740e+11   \n9   2023-01-16  4077.88  4137.96  4177.10  4076.64  151395455  3.190077e+11   \n10  2023-01-17  4138.84  4137.24  4148.58  4118.16   95479040  2.043816e+11   \n11  2023-01-18  4140.10  4135.61  4151.46  4125.77   39203368  8.537676e+10   \n\n      振幅   涨跌幅    涨跌额   换手率  \n0   1.62  0.42  16.27  0.40  \n1   0.83  0.13   5.05  0.38  \n2   1.61  1.94  75.63  0.40  \n3   0.86  0.31  12.31  0.38  \n4   0.81  0.81  32.23  0.40  \n5   0.70  0.11   4.35  0.35  \n6   0.88 -0.19  -7.44  0.35  \n7   0.67  0.20   7.84  0.31  \n8   1.16  1.41  56.51  0.33  \n9   2.47  1.56  63.58  0.52  \n10  0.74 -0.02  -0.72  0.33  \n11  0.62 -0.04  -1.63  0.14  ",
      "text/html": "<div>\n<style scoped>\n    .dataframe tbody tr th:only-of-type {\n        vertical-align: middle;\n    }\n\n    .dataframe tbody tr th {\n        vertical-align: top;\n    }\n\n    .dataframe thead th {\n        text-align: right;\n    }\n</style>\n<table border=\"1\" class=\"dataframe\">\n  <thead>\n    <tr style=\"text-align: right;\">\n      <th></th>\n      <th>日期</th>\n      <th>开盘</th>\n      <th>收盘</th>\n      <th>最高</th>\n      <th>最低</th>\n      <th>成交量</th>\n      <th>成交额</th>\n      <th>振幅</th>\n      <th>涨跌幅</th>\n      <th>涨跌额</th>\n      <th>换手率</th>\n    </tr>\n  </thead>\n  <tbody>\n    <tr>\n      <th>0</th>\n      <td>2023-01-03</td>\n      <td>3864.84</td>\n      <td>3887.90</td>\n      <td>3893.99</td>\n      <td>3831.25</td>\n      <td>115051875</td>\n      <td>2.075402e+11</td>\n      <td>1.62</td>\n      <td>0.42</td>\n      <td>16.27</td>\n      <td>0.40</td>\n    </tr>\n    <tr>\n      <th>1</th>\n      <td>2023-01-04</td>\n      <td>3886.25</td>\n      <td>3892.95</td>\n      <td>3905.90</td>\n      <td>3873.65</td>\n      <td>110660743</td>\n      <td>1.989977e+11</td>\n      <td>0.83</td>\n      <td>0.13</td>\n      <td>5.05</td>\n      <td>0.38</td>\n    </tr>\n    <tr>\n      <th>2</th>\n      <td>2023-01-05</td>\n      <td>3913.49</td>\n      <td>3968.58</td>\n      <td>3974.88</td>\n      <td>3912.26</td>\n      <td>116502395</td>\n      <td>2.563126e+11</td>\n      <td>1.61</td>\n      <td>1.94</td>\n      <td>75.63</td>\n      <td>0.40</td>\n    </tr>\n    <tr>\n      <th>3</th>\n      <td>2023-01-06</td>\n      <td>3969.55</td>\n      <td>3980.89</td>\n      <td>4000.41</td>\n      <td>3966.47</td>\n      <td>110953038</td>\n      <td>2.357443e+11</td>\n      <td>0.86</td>\n      <td>0.31</td>\n      <td>12.31</td>\n      <td>0.38</td>\n    </tr>\n    <tr>\n      <th>4</th>\n      <td>2023-01-09</td>\n      <td>3998.53</td>\n      <td>4013.12</td>\n      <td>4023.09</td>\n      <td>3990.71</td>\n      <td>117054425</td>\n      <td>2.332124e+11</td>\n      <td>0.81</td>\n      <td>0.81</td>\n      <td>32.23</td>\n      <td>0.40</td>\n    </tr>\n    <tr>\n      <th>5</th>\n      <td>2023-01-10</td>\n      <td>4014.71</td>\n      <td>4017.47</td>\n      <td>4030.46</td>\n      <td>4002.23</td>\n      <td>101751141</td>\n      <td>2.148712e+11</td>\n      <td>0.70</td>\n      <td>0.11</td>\n      <td>4.35</td>\n      <td>0.35</td>\n    </tr>\n    <tr>\n      <th>6</th>\n      <td>2023-01-11</td>\n      <td>4019.88</td>\n      <td>4010.03</td>\n      <td>4043.40</td>\n      <td>4008.02</td>\n      <td>99997889</td>\n      <td>2.030003e+11</td>\n      <td>0.88</td>\n      <td>-0.19</td>\n      <td>-7.44</td>\n      <td>0.35</td>\n    </tr>\n    <tr>\n      <th>7</th>\n      <td>2023-01-12</td>\n      <td>4021.75</td>\n      <td>4017.87</td>\n      <td>4030.29</td>\n      <td>4003.51</td>\n      <td>90552627</td>\n      <td>1.836863e+11</td>\n      <td>0.67</td>\n      <td>0.20</td>\n      <td>7.84</td>\n      <td>0.31</td>\n    </tr>\n    <tr>\n      <th>8</th>\n      <td>2023-01-13</td>\n      <td>4032.29</td>\n      <td>4074.38</td>\n      <td>4074.38</td>\n      <td>4027.89</td>\n      <td>95871896</td>\n      <td>2.121740e+11</td>\n      <td>1.16</td>\n      <td>1.41</td>\n      <td>56.51</td>\n      <td>0.33</td>\n    </tr>\n    <tr>\n      <th>9</th>\n      <td>2023-01-16</td>\n      <td>4077.88</td>\n      <td>4137.96</td>\n      <td>4177.10</td>\n      <td>4076.64</td>\n      <td>151395455</td>\n      <td>3.190077e+11</td>\n      <td>2.47</td>\n      <td>1.56</td>\n      <td>63.58</td>\n      <td>0.52</td>\n    </tr>\n    <tr>\n      <th>10</th>\n      <td>2023-01-17</td>\n      <td>4138.84</td>\n      <td>4137.24</td>\n      <td>4148.58</td>\n      <td>4118.16</td>\n      <td>95479040</td>\n      <td>2.043816e+11</td>\n      <td>0.74</td>\n      <td>-0.02</td>\n      <td>-0.72</td>\n      <td>0.33</td>\n    </tr>\n    <tr>\n      <th>11</th>\n      <td>2023-01-18</td>\n      <td>4140.10</td>\n      <td>4135.61</td>\n      <td>4151.46</td>\n      <td>4125.77</td>\n      <td>39203368</td>\n      <td>8.537676e+10</td>\n      <td>0.62</td>\n      <td>-0.04</td>\n      <td>-1.63</td>\n      <td>0.14</td>\n    </tr>\n  </tbody>\n</table>\n</div>"
     },
     "execution_count": 7,
     "metadata": {},
     "output_type": "execute_result"
    }
   ],
   "source": [
    "optshare.get_daily_index('000300', start_date = '20230101', end_date = '20230118')"
   ],
   "metadata": {
    "collapsed": false
   }
  }
 ],
 "metadata": {
  "kernelspec": {
   "display_name": "Python 3",
   "language": "python",
   "name": "python3"
  },
  "language_info": {
   "codemirror_mode": {
    "name": "ipython",
    "version": 2
   },
   "file_extension": ".py",
   "mimetype": "text/x-python",
   "name": "python",
   "nbconvert_exporter": "python",
   "pygments_lexer": "ipython2",
   "version": "2.7.6"
  }
 },
 "nbformat": 4,
 "nbformat_minor": 0
}
