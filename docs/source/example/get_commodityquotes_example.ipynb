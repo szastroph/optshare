{
 "cells": [
  {
   "cell_type": "markdown",
   "source": [
    "# 商品期权T型报价"
   ],
   "metadata": {
    "collapsed": false
   }
  },
  {
   "cell_type": "markdown",
   "source": [
    "## 大连商品交易所"
   ],
   "metadata": {
    "collapsed": false
   }
  },
  {
   "cell_type": "code",
   "execution_count": 1,
   "outputs": [
    {
     "name": "stdout",
     "output_type": "stream",
     "text": [
      "fetch option quotes for  豆粕期权\n",
      "fetch option quotes for  玉米期权\n",
      "fetch option quotes for  铁矿石期权\n",
      "fetch option quotes for  液化石油天然气期权\n",
      "fetch option quotes for  聚乙烯期权\n",
      "fetch option quotes for  聚氯乙烯期权\n",
      "fetch option quotes for  聚丙烯期权\n",
      "fetch option quotes for  棕榈油期权\n",
      "fetch option quotes for  黄大豆1号期权\n",
      "fetch option quotes for  黄大豆2号期权\n",
      "fetch option quotes for  豆油期权\n"
     ]
    },
    {
     "data": {
      "text/plain": "                    日期     行权价  看涨合约-最新价  看跌合约-最新价 挂钩标的代码        到期日期\n0     2023-02-06 15:00  2950.0    1382.0       NaN  m2303  2023-02-07\n1     2023-02-06 15:00  3000.0       NaN       NaN  m2303  2023-02-07\n2     2023-02-06 15:00  3050.0       NaN       NaN  m2303  2023-02-07\n3     2023-02-06 15:00  3100.0       NaN       NaN  m2303  2023-02-07\n4     2023-02-06 15:00  3150.0       NaN       NaN  m2303  2023-02-07\n...                ...     ...       ...       ...    ...         ...\n3773  2023-02-06 15:00  9400.0     255.0       NaN  y2401  2023-12-07\n3774  2023-02-06 15:00  9500.0       NaN       NaN  y2401  2023-12-07\n3775  2023-02-06 15:00  9600.0     211.0       NaN  y2401  2023-12-07\n3776  2023-02-06 15:00  9700.0     191.0       NaN  y2401  2023-12-07\n3777  2023-02-06 15:00  9800.0     172.5       NaN  y2401  2023-12-07\n\n[3778 rows x 6 columns]",
      "text/html": "<div>\n<style scoped>\n    .dataframe tbody tr th:only-of-type {\n        vertical-align: middle;\n    }\n\n    .dataframe tbody tr th {\n        vertical-align: top;\n    }\n\n    .dataframe thead th {\n        text-align: right;\n    }\n</style>\n<table border=\"1\" class=\"dataframe\">\n  <thead>\n    <tr style=\"text-align: right;\">\n      <th></th>\n      <th>日期</th>\n      <th>行权价</th>\n      <th>看涨合约-最新价</th>\n      <th>看跌合约-最新价</th>\n      <th>挂钩标的代码</th>\n      <th>到期日期</th>\n    </tr>\n  </thead>\n  <tbody>\n    <tr>\n      <th>0</th>\n      <td>2023-02-06 15:00</td>\n      <td>2950.0</td>\n      <td>1382.0</td>\n      <td>NaN</td>\n      <td>m2303</td>\n      <td>2023-02-07</td>\n    </tr>\n    <tr>\n      <th>1</th>\n      <td>2023-02-06 15:00</td>\n      <td>3000.0</td>\n      <td>NaN</td>\n      <td>NaN</td>\n      <td>m2303</td>\n      <td>2023-02-07</td>\n    </tr>\n    <tr>\n      <th>2</th>\n      <td>2023-02-06 15:00</td>\n      <td>3050.0</td>\n      <td>NaN</td>\n      <td>NaN</td>\n      <td>m2303</td>\n      <td>2023-02-07</td>\n    </tr>\n    <tr>\n      <th>3</th>\n      <td>2023-02-06 15:00</td>\n      <td>3100.0</td>\n      <td>NaN</td>\n      <td>NaN</td>\n      <td>m2303</td>\n      <td>2023-02-07</td>\n    </tr>\n    <tr>\n      <th>4</th>\n      <td>2023-02-06 15:00</td>\n      <td>3150.0</td>\n      <td>NaN</td>\n      <td>NaN</td>\n      <td>m2303</td>\n      <td>2023-02-07</td>\n    </tr>\n    <tr>\n      <th>...</th>\n      <td>...</td>\n      <td>...</td>\n      <td>...</td>\n      <td>...</td>\n      <td>...</td>\n      <td>...</td>\n    </tr>\n    <tr>\n      <th>3773</th>\n      <td>2023-02-06 15:00</td>\n      <td>9400.0</td>\n      <td>255.0</td>\n      <td>NaN</td>\n      <td>y2401</td>\n      <td>2023-12-07</td>\n    </tr>\n    <tr>\n      <th>3774</th>\n      <td>2023-02-06 15:00</td>\n      <td>9500.0</td>\n      <td>NaN</td>\n      <td>NaN</td>\n      <td>y2401</td>\n      <td>2023-12-07</td>\n    </tr>\n    <tr>\n      <th>3775</th>\n      <td>2023-02-06 15:00</td>\n      <td>9600.0</td>\n      <td>211.0</td>\n      <td>NaN</td>\n      <td>y2401</td>\n      <td>2023-12-07</td>\n    </tr>\n    <tr>\n      <th>3776</th>\n      <td>2023-02-06 15:00</td>\n      <td>9700.0</td>\n      <td>191.0</td>\n      <td>NaN</td>\n      <td>y2401</td>\n      <td>2023-12-07</td>\n    </tr>\n    <tr>\n      <th>3777</th>\n      <td>2023-02-06 15:00</td>\n      <td>9800.0</td>\n      <td>172.5</td>\n      <td>NaN</td>\n      <td>y2401</td>\n      <td>2023-12-07</td>\n    </tr>\n  </tbody>\n</table>\n<p>3778 rows × 6 columns</p>\n</div>"
     },
     "execution_count": 1,
     "metadata": {},
     "output_type": "execute_result"
    }
   ],
   "source": [
    "import optshare\n",
    "optshare.get_commodity_option_quotes(exchange_name= 'dce')"
   ],
   "metadata": {
    "collapsed": false
   }
  },
  {
   "cell_type": "markdown",
   "source": [
    "## 郑州商品交易所"
   ],
   "metadata": {
    "collapsed": false
   }
  },
  {
   "cell_type": "code",
   "execution_count": 2,
   "outputs": [
    {
     "name": "stdout",
     "output_type": "stream",
     "text": [
      "fetch option quotes for  白糖期权\n",
      "fetch option quotes for  棉花期权\n",
      "fetch option quotes for  PTA期权\n",
      "fetch option quotes for  甲醇期权\n",
      "fetch option quotes for  菜籽粕期权\n",
      "fetch option quotes for  菜籽油期权\n",
      "fetch option quotes for  花生期权\n"
     ]
    },
    {
     "data": {
      "text/plain": "                   日期     行权价  看涨合约-最新价  看跌合约-最新价 挂钩标的代码        到期日期\n0    2023-02-06 15:00  5000.0       NaN       0.5  SR305  2023-04-06\n1    2023-02-06 15:00  5100.0       NaN       1.0  SR305  2023-04-06\n2    2023-02-06 15:00  5200.0       NaN       1.5  SR305  2023-04-06\n3    2023-02-06 15:00  5300.0       NaN       2.5  SR305  2023-04-06\n4    2023-02-06 15:00  5400.0       NaN       3.5  SR305  2023-04-06\n..                ...     ...       ...       ...    ...         ...\n764  2023-02-06 15:00  9500.0       NaN       NaN  PK310  2023-09-05\n765  2023-02-06 15:00  9600.0       NaN       NaN  PK310  2023-09-05\n766  2023-02-06 15:00  9700.0       NaN       NaN  PK310  2023-09-05\n767  2023-02-06 15:00  9800.0       NaN       NaN  PK310  2023-09-05\n768  2023-02-06 15:00  9900.0       NaN       NaN  PK310  2023-09-05\n\n[769 rows x 6 columns]",
      "text/html": "<div>\n<style scoped>\n    .dataframe tbody tr th:only-of-type {\n        vertical-align: middle;\n    }\n\n    .dataframe tbody tr th {\n        vertical-align: top;\n    }\n\n    .dataframe thead th {\n        text-align: right;\n    }\n</style>\n<table border=\"1\" class=\"dataframe\">\n  <thead>\n    <tr style=\"text-align: right;\">\n      <th></th>\n      <th>日期</th>\n      <th>行权价</th>\n      <th>看涨合约-最新价</th>\n      <th>看跌合约-最新价</th>\n      <th>挂钩标的代码</th>\n      <th>到期日期</th>\n    </tr>\n  </thead>\n  <tbody>\n    <tr>\n      <th>0</th>\n      <td>2023-02-06 15:00</td>\n      <td>5000.0</td>\n      <td>NaN</td>\n      <td>0.5</td>\n      <td>SR305</td>\n      <td>2023-04-06</td>\n    </tr>\n    <tr>\n      <th>1</th>\n      <td>2023-02-06 15:00</td>\n      <td>5100.0</td>\n      <td>NaN</td>\n      <td>1.0</td>\n      <td>SR305</td>\n      <td>2023-04-06</td>\n    </tr>\n    <tr>\n      <th>2</th>\n      <td>2023-02-06 15:00</td>\n      <td>5200.0</td>\n      <td>NaN</td>\n      <td>1.5</td>\n      <td>SR305</td>\n      <td>2023-04-06</td>\n    </tr>\n    <tr>\n      <th>3</th>\n      <td>2023-02-06 15:00</td>\n      <td>5300.0</td>\n      <td>NaN</td>\n      <td>2.5</td>\n      <td>SR305</td>\n      <td>2023-04-06</td>\n    </tr>\n    <tr>\n      <th>4</th>\n      <td>2023-02-06 15:00</td>\n      <td>5400.0</td>\n      <td>NaN</td>\n      <td>3.5</td>\n      <td>SR305</td>\n      <td>2023-04-06</td>\n    </tr>\n    <tr>\n      <th>...</th>\n      <td>...</td>\n      <td>...</td>\n      <td>...</td>\n      <td>...</td>\n      <td>...</td>\n      <td>...</td>\n    </tr>\n    <tr>\n      <th>764</th>\n      <td>2023-02-06 15:00</td>\n      <td>9500.0</td>\n      <td>NaN</td>\n      <td>NaN</td>\n      <td>PK310</td>\n      <td>2023-09-05</td>\n    </tr>\n    <tr>\n      <th>765</th>\n      <td>2023-02-06 15:00</td>\n      <td>9600.0</td>\n      <td>NaN</td>\n      <td>NaN</td>\n      <td>PK310</td>\n      <td>2023-09-05</td>\n    </tr>\n    <tr>\n      <th>766</th>\n      <td>2023-02-06 15:00</td>\n      <td>9700.0</td>\n      <td>NaN</td>\n      <td>NaN</td>\n      <td>PK310</td>\n      <td>2023-09-05</td>\n    </tr>\n    <tr>\n      <th>767</th>\n      <td>2023-02-06 15:00</td>\n      <td>9800.0</td>\n      <td>NaN</td>\n      <td>NaN</td>\n      <td>PK310</td>\n      <td>2023-09-05</td>\n    </tr>\n    <tr>\n      <th>768</th>\n      <td>2023-02-06 15:00</td>\n      <td>9900.0</td>\n      <td>NaN</td>\n      <td>NaN</td>\n      <td>PK310</td>\n      <td>2023-09-05</td>\n    </tr>\n  </tbody>\n</table>\n<p>769 rows × 6 columns</p>\n</div>"
     },
     "execution_count": 2,
     "metadata": {},
     "output_type": "execute_result"
    }
   ],
   "source": [
    "optshare.get_commodity_option_quotes(exchange_name='czce')"
   ],
   "metadata": {
    "collapsed": false
   }
  },
  {
   "cell_type": "markdown",
   "source": [
    "## 上海期货交易所"
   ],
   "metadata": {
    "collapsed": false
   }
  },
  {
   "cell_type": "code",
   "execution_count": 3,
   "outputs": [
    {
     "name": "stdout",
     "output_type": "stream",
     "text": [
      "fetch option quotes for  铜期权\n",
      "fetch option quotes for  铝期权\n",
      "fetch option quotes for  锌期权\n",
      "fetch option quotes for  螺纹钢期权\n",
      "fetch option quotes for  黄金期权\n",
      "fetch option quotes for  白银期权\n",
      "fetch option quotes for  天胶期权\n"
     ]
    },
    {
     "data": {
      "text/plain": "                    日期      行权价  看涨合约-最新价  看跌合约-最新价  挂钩标的代码        到期日期\n0     2023-02-06 15:00  50000.0       NaN       2.0  cu2303  2023-02-22\n1     2023-02-06 15:00  51000.0       NaN       NaN  cu2303  2023-02-22\n2     2023-02-06 15:00  52000.0       NaN       NaN  cu2303  2023-02-22\n3     2023-02-06 15:00  53000.0       NaN       NaN  cu2303  2023-02-22\n4     2023-02-06 15:00  54000.0       NaN       2.0  cu2303  2023-02-22\n...                ...      ...       ...       ...     ...         ...\n1071  2023-02-06 15:00  14250.0     320.0    1869.0  ru2309  2023-08-25\n1072  2023-02-06 15:00  14500.0     275.0    2070.0  ru2309  2023-08-25\n1073  2023-02-06 15:00  14750.0     247.0       NaN  ru2309  2023-08-25\n1074  2023-02-06 15:00  15000.0     213.0       NaN  ru2309  2023-08-25\n1075  2023-02-06 15:00  15250.0     187.0       NaN  ru2309  2023-08-25\n\n[1076 rows x 6 columns]",
      "text/html": "<div>\n<style scoped>\n    .dataframe tbody tr th:only-of-type {\n        vertical-align: middle;\n    }\n\n    .dataframe tbody tr th {\n        vertical-align: top;\n    }\n\n    .dataframe thead th {\n        text-align: right;\n    }\n</style>\n<table border=\"1\" class=\"dataframe\">\n  <thead>\n    <tr style=\"text-align: right;\">\n      <th></th>\n      <th>日期</th>\n      <th>行权价</th>\n      <th>看涨合约-最新价</th>\n      <th>看跌合约-最新价</th>\n      <th>挂钩标的代码</th>\n      <th>到期日期</th>\n    </tr>\n  </thead>\n  <tbody>\n    <tr>\n      <th>0</th>\n      <td>2023-02-06 15:00</td>\n      <td>50000.0</td>\n      <td>NaN</td>\n      <td>2.0</td>\n      <td>cu2303</td>\n      <td>2023-02-22</td>\n    </tr>\n    <tr>\n      <th>1</th>\n      <td>2023-02-06 15:00</td>\n      <td>51000.0</td>\n      <td>NaN</td>\n      <td>NaN</td>\n      <td>cu2303</td>\n      <td>2023-02-22</td>\n    </tr>\n    <tr>\n      <th>2</th>\n      <td>2023-02-06 15:00</td>\n      <td>52000.0</td>\n      <td>NaN</td>\n      <td>NaN</td>\n      <td>cu2303</td>\n      <td>2023-02-22</td>\n    </tr>\n    <tr>\n      <th>3</th>\n      <td>2023-02-06 15:00</td>\n      <td>53000.0</td>\n      <td>NaN</td>\n      <td>NaN</td>\n      <td>cu2303</td>\n      <td>2023-02-22</td>\n    </tr>\n    <tr>\n      <th>4</th>\n      <td>2023-02-06 15:00</td>\n      <td>54000.0</td>\n      <td>NaN</td>\n      <td>2.0</td>\n      <td>cu2303</td>\n      <td>2023-02-22</td>\n    </tr>\n    <tr>\n      <th>...</th>\n      <td>...</td>\n      <td>...</td>\n      <td>...</td>\n      <td>...</td>\n      <td>...</td>\n      <td>...</td>\n    </tr>\n    <tr>\n      <th>1071</th>\n      <td>2023-02-06 15:00</td>\n      <td>14250.0</td>\n      <td>320.0</td>\n      <td>1869.0</td>\n      <td>ru2309</td>\n      <td>2023-08-25</td>\n    </tr>\n    <tr>\n      <th>1072</th>\n      <td>2023-02-06 15:00</td>\n      <td>14500.0</td>\n      <td>275.0</td>\n      <td>2070.0</td>\n      <td>ru2309</td>\n      <td>2023-08-25</td>\n    </tr>\n    <tr>\n      <th>1073</th>\n      <td>2023-02-06 15:00</td>\n      <td>14750.0</td>\n      <td>247.0</td>\n      <td>NaN</td>\n      <td>ru2309</td>\n      <td>2023-08-25</td>\n    </tr>\n    <tr>\n      <th>1074</th>\n      <td>2023-02-06 15:00</td>\n      <td>15000.0</td>\n      <td>213.0</td>\n      <td>NaN</td>\n      <td>ru2309</td>\n      <td>2023-08-25</td>\n    </tr>\n    <tr>\n      <th>1075</th>\n      <td>2023-02-06 15:00</td>\n      <td>15250.0</td>\n      <td>187.0</td>\n      <td>NaN</td>\n      <td>ru2309</td>\n      <td>2023-08-25</td>\n    </tr>\n  </tbody>\n</table>\n<p>1076 rows × 6 columns</p>\n</div>"
     },
     "execution_count": 3,
     "metadata": {},
     "output_type": "execute_result"
    }
   ],
   "source": [
    "optshare.get_commodity_option_quotes(exchange_name='shfe')"
   ],
   "metadata": {
    "collapsed": false
   }
  },
  {
   "cell_type": "markdown",
   "source": [
    "## 上海国际能源交易中心"
   ],
   "metadata": {
    "collapsed": false
   }
  },
  {
   "cell_type": "code",
   "execution_count": 4,
   "outputs": [
    {
     "name": "stdout",
     "output_type": "stream",
     "text": [
      "fetch option quotes for  原油期权\n"
     ]
    },
    {
     "data": {
      "text/plain": "                   日期    行权价  看涨合约-最新价  看跌合约-最新价  挂钩标的代码        到期日期\n0    2023-02-06 15:00  410.0       NaN      0.05  sc2303  2023-02-10\n1    2023-02-06 15:00  415.0       NaN       NaN  sc2303  2023-02-10\n2    2023-02-06 15:00  420.0       NaN       NaN  sc2303  2023-02-10\n3    2023-02-06 15:00  425.0       NaN       NaN  sc2303  2023-02-10\n4    2023-02-06 15:00  430.0       NaN      0.05  sc2303  2023-02-10\n..                ...    ...       ...       ...     ...         ...\n106  2023-02-06 15:00  650.0      2.85       NaN  sc2305  2023-04-12\n107  2023-02-06 15:00  660.0      2.35       NaN  sc2305  2023-04-12\n108  2023-02-06 15:00  670.0      1.95       NaN  sc2305  2023-04-12\n109  2023-02-06 15:00  680.0      1.60       NaN  sc2305  2023-04-12\n110  2023-02-06 15:00  690.0      1.30       NaN  sc2305  2023-04-12\n\n[111 rows x 6 columns]",
      "text/html": "<div>\n<style scoped>\n    .dataframe tbody tr th:only-of-type {\n        vertical-align: middle;\n    }\n\n    .dataframe tbody tr th {\n        vertical-align: top;\n    }\n\n    .dataframe thead th {\n        text-align: right;\n    }\n</style>\n<table border=\"1\" class=\"dataframe\">\n  <thead>\n    <tr style=\"text-align: right;\">\n      <th></th>\n      <th>日期</th>\n      <th>行权价</th>\n      <th>看涨合约-最新价</th>\n      <th>看跌合约-最新价</th>\n      <th>挂钩标的代码</th>\n      <th>到期日期</th>\n    </tr>\n  </thead>\n  <tbody>\n    <tr>\n      <th>0</th>\n      <td>2023-02-06 15:00</td>\n      <td>410.0</td>\n      <td>NaN</td>\n      <td>0.05</td>\n      <td>sc2303</td>\n      <td>2023-02-10</td>\n    </tr>\n    <tr>\n      <th>1</th>\n      <td>2023-02-06 15:00</td>\n      <td>415.0</td>\n      <td>NaN</td>\n      <td>NaN</td>\n      <td>sc2303</td>\n      <td>2023-02-10</td>\n    </tr>\n    <tr>\n      <th>2</th>\n      <td>2023-02-06 15:00</td>\n      <td>420.0</td>\n      <td>NaN</td>\n      <td>NaN</td>\n      <td>sc2303</td>\n      <td>2023-02-10</td>\n    </tr>\n    <tr>\n      <th>3</th>\n      <td>2023-02-06 15:00</td>\n      <td>425.0</td>\n      <td>NaN</td>\n      <td>NaN</td>\n      <td>sc2303</td>\n      <td>2023-02-10</td>\n    </tr>\n    <tr>\n      <th>4</th>\n      <td>2023-02-06 15:00</td>\n      <td>430.0</td>\n      <td>NaN</td>\n      <td>0.05</td>\n      <td>sc2303</td>\n      <td>2023-02-10</td>\n    </tr>\n    <tr>\n      <th>...</th>\n      <td>...</td>\n      <td>...</td>\n      <td>...</td>\n      <td>...</td>\n      <td>...</td>\n      <td>...</td>\n    </tr>\n    <tr>\n      <th>106</th>\n      <td>2023-02-06 15:00</td>\n      <td>650.0</td>\n      <td>2.85</td>\n      <td>NaN</td>\n      <td>sc2305</td>\n      <td>2023-04-12</td>\n    </tr>\n    <tr>\n      <th>107</th>\n      <td>2023-02-06 15:00</td>\n      <td>660.0</td>\n      <td>2.35</td>\n      <td>NaN</td>\n      <td>sc2305</td>\n      <td>2023-04-12</td>\n    </tr>\n    <tr>\n      <th>108</th>\n      <td>2023-02-06 15:00</td>\n      <td>670.0</td>\n      <td>1.95</td>\n      <td>NaN</td>\n      <td>sc2305</td>\n      <td>2023-04-12</td>\n    </tr>\n    <tr>\n      <th>109</th>\n      <td>2023-02-06 15:00</td>\n      <td>680.0</td>\n      <td>1.60</td>\n      <td>NaN</td>\n      <td>sc2305</td>\n      <td>2023-04-12</td>\n    </tr>\n    <tr>\n      <th>110</th>\n      <td>2023-02-06 15:00</td>\n      <td>690.0</td>\n      <td>1.30</td>\n      <td>NaN</td>\n      <td>sc2305</td>\n      <td>2023-04-12</td>\n    </tr>\n  </tbody>\n</table>\n<p>111 rows × 6 columns</p>\n</div>"
     },
     "execution_count": 4,
     "metadata": {},
     "output_type": "execute_result"
    }
   ],
   "source": [
    "optshare.get_commodity_option_quotes(exchange_name='ine')"
   ],
   "metadata": {
    "collapsed": false
   }
  }
 ],
 "metadata": {
  "kernelspec": {
   "display_name": "Python 3",
   "language": "python",
   "name": "python3"
  },
  "language_info": {
   "codemirror_mode": {
    "name": "ipython",
    "version": 2
   },
   "file_extension": ".py",
   "mimetype": "text/x-python",
   "name": "python",
   "nbconvert_exporter": "python",
   "pygments_lexer": "ipython2",
   "version": "2.7.6"
  }
 },
 "nbformat": 4,
 "nbformat_minor": 0
}
