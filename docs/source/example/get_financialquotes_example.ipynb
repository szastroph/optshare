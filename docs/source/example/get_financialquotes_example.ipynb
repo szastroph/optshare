{
 "cells": [
  {
   "cell_type": "markdown",
   "source": [
    "# 金融期权T型报价"
   ],
   "metadata": {
    "collapsed": false
   }
  },
  {
   "cell_type": "markdown",
   "source": [
    "## ETF期权\n",
    "### 上交所ETF期权T型报价"
   ],
   "metadata": {
    "collapsed": false
   }
  },
  {
   "cell_type": "code",
   "execution_count": 4,
   "outputs": [
    {
     "name": "stdout",
     "output_type": "stream",
     "text": [
      "fetch option quotes for  510050\n",
      "fetch option quotes for  510300\n",
      "fetch option quotes for  510500\n"
     ]
    },
    {
     "data": {
      "text/plain": "                   日期   行权价  看涨合约-最新价  看跌合约-最新价  挂钩标的代码  挂钩标的-最新价        到期日期\n0    2023-02-07 15:00  2.45    0.3026    0.0007  510050     2.747  2023-02-22\n1    2023-02-07 15:00  2.50    0.2523    0.0010  510050     2.747  2023-02-22\n2    2023-02-07 15:00  2.55    0.2045    0.0024  510050     2.747  2023-02-22\n3    2023-02-07 15:00  2.60    0.1571    0.0053  510050     2.747  2023-02-22\n4    2023-02-07 15:00  2.65    0.1132    0.0113  510050     2.747  2023-02-22\n..                ...   ...       ...       ...     ...       ...         ...\n207  2023-02-07 15:00  6.50    0.2690    0.4512  510500     6.331  2023-09-27\n208  2023-02-07 15:00  6.75    0.1880    0.5797  510500     6.331  2023-09-27\n209  2023-02-07 15:00  7.00    0.1277    0.7434  510500     6.331  2023-09-27\n210  2023-02-07 15:00  7.25    0.0864    1.0173  510500     6.331  2023-09-27\n211  2023-02-07 15:00  7.50    0.0587    1.2345  510500     6.331  2023-09-27\n\n[212 rows x 7 columns]",
      "text/html": "<div>\n<style scoped>\n    .dataframe tbody tr th:only-of-type {\n        vertical-align: middle;\n    }\n\n    .dataframe tbody tr th {\n        vertical-align: top;\n    }\n\n    .dataframe thead th {\n        text-align: right;\n    }\n</style>\n<table border=\"1\" class=\"dataframe\">\n  <thead>\n    <tr style=\"text-align: right;\">\n      <th></th>\n      <th>日期</th>\n      <th>行权价</th>\n      <th>看涨合约-最新价</th>\n      <th>看跌合约-最新价</th>\n      <th>挂钩标的代码</th>\n      <th>挂钩标的-最新价</th>\n      <th>到期日期</th>\n    </tr>\n  </thead>\n  <tbody>\n    <tr>\n      <th>0</th>\n      <td>2023-02-07 15:00</td>\n      <td>2.45</td>\n      <td>0.3026</td>\n      <td>0.0007</td>\n      <td>510050</td>\n      <td>2.747</td>\n      <td>2023-02-22</td>\n    </tr>\n    <tr>\n      <th>1</th>\n      <td>2023-02-07 15:00</td>\n      <td>2.50</td>\n      <td>0.2523</td>\n      <td>0.0010</td>\n      <td>510050</td>\n      <td>2.747</td>\n      <td>2023-02-22</td>\n    </tr>\n    <tr>\n      <th>2</th>\n      <td>2023-02-07 15:00</td>\n      <td>2.55</td>\n      <td>0.2045</td>\n      <td>0.0024</td>\n      <td>510050</td>\n      <td>2.747</td>\n      <td>2023-02-22</td>\n    </tr>\n    <tr>\n      <th>3</th>\n      <td>2023-02-07 15:00</td>\n      <td>2.60</td>\n      <td>0.1571</td>\n      <td>0.0053</td>\n      <td>510050</td>\n      <td>2.747</td>\n      <td>2023-02-22</td>\n    </tr>\n    <tr>\n      <th>4</th>\n      <td>2023-02-07 15:00</td>\n      <td>2.65</td>\n      <td>0.1132</td>\n      <td>0.0113</td>\n      <td>510050</td>\n      <td>2.747</td>\n      <td>2023-02-22</td>\n    </tr>\n    <tr>\n      <th>...</th>\n      <td>...</td>\n      <td>...</td>\n      <td>...</td>\n      <td>...</td>\n      <td>...</td>\n      <td>...</td>\n      <td>...</td>\n    </tr>\n    <tr>\n      <th>207</th>\n      <td>2023-02-07 15:00</td>\n      <td>6.50</td>\n      <td>0.2690</td>\n      <td>0.4512</td>\n      <td>510500</td>\n      <td>6.331</td>\n      <td>2023-09-27</td>\n    </tr>\n    <tr>\n      <th>208</th>\n      <td>2023-02-07 15:00</td>\n      <td>6.75</td>\n      <td>0.1880</td>\n      <td>0.5797</td>\n      <td>510500</td>\n      <td>6.331</td>\n      <td>2023-09-27</td>\n    </tr>\n    <tr>\n      <th>209</th>\n      <td>2023-02-07 15:00</td>\n      <td>7.00</td>\n      <td>0.1277</td>\n      <td>0.7434</td>\n      <td>510500</td>\n      <td>6.331</td>\n      <td>2023-09-27</td>\n    </tr>\n    <tr>\n      <th>210</th>\n      <td>2023-02-07 15:00</td>\n      <td>7.25</td>\n      <td>0.0864</td>\n      <td>1.0173</td>\n      <td>510500</td>\n      <td>6.331</td>\n      <td>2023-09-27</td>\n    </tr>\n    <tr>\n      <th>211</th>\n      <td>2023-02-07 15:00</td>\n      <td>7.50</td>\n      <td>0.0587</td>\n      <td>1.2345</td>\n      <td>510500</td>\n      <td>6.331</td>\n      <td>2023-09-27</td>\n    </tr>\n  </tbody>\n</table>\n<p>212 rows × 7 columns</p>\n</div>"
     },
     "execution_count": 4,
     "metadata": {},
     "output_type": "execute_result"
    }
   ],
   "source": [
    "import optshare\n",
    "optshare.get_financial_option_quotes(exchange_name = 'sse')"
   ],
   "metadata": {
    "collapsed": false
   }
  },
  {
   "cell_type": "markdown",
   "source": [
    "### 深交所ETF期权T型报价"
   ],
   "metadata": {
    "collapsed": false
   }
  },
  {
   "cell_type": "code",
   "execution_count": 5,
   "outputs": [
    {
     "name": "stdout",
     "output_type": "stream",
     "text": [
      "fetch option quotes for  159919\n",
      "fetch option quotes for  159922\n",
      "fetch option quotes for  159915\n"
     ]
    },
    {
     "data": {
      "text/plain": "                   日期   行权价  看涨合约-最新价  看跌合约-最新价  挂钩标的代码  挂钩标的-最新价        到期日期\n0    2023-02-07 15:00  3.50    0.6676    0.0003  159919     4.162  2023-02-22\n1    2023-02-07 15:00  3.60       NaN    0.0003  159919     4.162  2023-02-22\n2    2023-02-07 15:00  3.70    0.4641    0.0009  159919     4.162  2023-02-22\n3    2023-02-07 15:00  3.80    0.3579    0.0018  159919     4.162  2023-02-22\n4    2023-02-07 15:00  3.90    0.2657    0.0043  159919     4.162  2023-02-22\n..                ...   ...       ...       ...     ...       ...         ...\n153  2023-02-07 15:00  2.55    0.1440    0.2160  159915     2.461  2023-09-27\n154  2023-02-07 15:00  2.60    0.1250    0.2462  159915     2.461  2023-09-27\n155  2023-02-07 15:00  2.65    0.1012    0.2791  159915     2.461  2023-09-27\n156  2023-02-07 15:00  2.70    0.0924    0.3013  159915     2.461  2023-09-27\n157  2023-02-07 15:00  2.75    0.0808    0.3446  159915     2.461  2023-09-27\n\n[158 rows x 7 columns]",
      "text/html": "<div>\n<style scoped>\n    .dataframe tbody tr th:only-of-type {\n        vertical-align: middle;\n    }\n\n    .dataframe tbody tr th {\n        vertical-align: top;\n    }\n\n    .dataframe thead th {\n        text-align: right;\n    }\n</style>\n<table border=\"1\" class=\"dataframe\">\n  <thead>\n    <tr style=\"text-align: right;\">\n      <th></th>\n      <th>日期</th>\n      <th>行权价</th>\n      <th>看涨合约-最新价</th>\n      <th>看跌合约-最新价</th>\n      <th>挂钩标的代码</th>\n      <th>挂钩标的-最新价</th>\n      <th>到期日期</th>\n    </tr>\n  </thead>\n  <tbody>\n    <tr>\n      <th>0</th>\n      <td>2023-02-07 15:00</td>\n      <td>3.50</td>\n      <td>0.6676</td>\n      <td>0.0003</td>\n      <td>159919</td>\n      <td>4.162</td>\n      <td>2023-02-22</td>\n    </tr>\n    <tr>\n      <th>1</th>\n      <td>2023-02-07 15:00</td>\n      <td>3.60</td>\n      <td>NaN</td>\n      <td>0.0003</td>\n      <td>159919</td>\n      <td>4.162</td>\n      <td>2023-02-22</td>\n    </tr>\n    <tr>\n      <th>2</th>\n      <td>2023-02-07 15:00</td>\n      <td>3.70</td>\n      <td>0.4641</td>\n      <td>0.0009</td>\n      <td>159919</td>\n      <td>4.162</td>\n      <td>2023-02-22</td>\n    </tr>\n    <tr>\n      <th>3</th>\n      <td>2023-02-07 15:00</td>\n      <td>3.80</td>\n      <td>0.3579</td>\n      <td>0.0018</td>\n      <td>159919</td>\n      <td>4.162</td>\n      <td>2023-02-22</td>\n    </tr>\n    <tr>\n      <th>4</th>\n      <td>2023-02-07 15:00</td>\n      <td>3.90</td>\n      <td>0.2657</td>\n      <td>0.0043</td>\n      <td>159919</td>\n      <td>4.162</td>\n      <td>2023-02-22</td>\n    </tr>\n    <tr>\n      <th>...</th>\n      <td>...</td>\n      <td>...</td>\n      <td>...</td>\n      <td>...</td>\n      <td>...</td>\n      <td>...</td>\n      <td>...</td>\n    </tr>\n    <tr>\n      <th>153</th>\n      <td>2023-02-07 15:00</td>\n      <td>2.55</td>\n      <td>0.1440</td>\n      <td>0.2160</td>\n      <td>159915</td>\n      <td>2.461</td>\n      <td>2023-09-27</td>\n    </tr>\n    <tr>\n      <th>154</th>\n      <td>2023-02-07 15:00</td>\n      <td>2.60</td>\n      <td>0.1250</td>\n      <td>0.2462</td>\n      <td>159915</td>\n      <td>2.461</td>\n      <td>2023-09-27</td>\n    </tr>\n    <tr>\n      <th>155</th>\n      <td>2023-02-07 15:00</td>\n      <td>2.65</td>\n      <td>0.1012</td>\n      <td>0.2791</td>\n      <td>159915</td>\n      <td>2.461</td>\n      <td>2023-09-27</td>\n    </tr>\n    <tr>\n      <th>156</th>\n      <td>2023-02-07 15:00</td>\n      <td>2.70</td>\n      <td>0.0924</td>\n      <td>0.3013</td>\n      <td>159915</td>\n      <td>2.461</td>\n      <td>2023-09-27</td>\n    </tr>\n    <tr>\n      <th>157</th>\n      <td>2023-02-07 15:00</td>\n      <td>2.75</td>\n      <td>0.0808</td>\n      <td>0.3446</td>\n      <td>159915</td>\n      <td>2.461</td>\n      <td>2023-09-27</td>\n    </tr>\n  </tbody>\n</table>\n<p>158 rows × 7 columns</p>\n</div>"
     },
     "execution_count": 5,
     "metadata": {},
     "output_type": "execute_result"
    }
   ],
   "source": [
    "optshare.get_financial_option_quotes(exchange_name = 'szse')"
   ],
   "metadata": {
    "collapsed": false
   }
  },
  {
   "cell_type": "markdown",
   "source": [
    "## 股指期权"
   ],
   "metadata": {
    "collapsed": false
   }
  },
  {
   "cell_type": "code",
   "execution_count": 6,
   "outputs": [
    {
     "name": "stdout",
     "output_type": "stream",
     "text": [
      "fetch option quotes for  000300\n",
      "fetch option quotes for  000852\n",
      "fetch option quotes for  000016\n"
     ]
    },
    {
     "data": {
      "text/plain": "                   日期     行权价  看涨合约-最新价  看跌合约-最新价  挂钩标的代码  挂钩标的-最新价  \\\n0    2023-02-07 15:00  3400.0     730.8      55.2  IO2312   4094.23   \n1    2023-02-07 15:00  3500.0     648.0      69.0  IO2312   4094.23   \n2    2023-02-07 15:00  3600.0     567.0      89.2  IO2312   4094.23   \n3    2023-02-07 15:00  3700.0     501.0     111.8  IO2312   4094.23   \n4    2023-02-07 15:00  3800.0       NaN     141.2  IO2312   4094.23   \n..                ...     ...       ...       ...     ...       ...   \n333  2023-02-07 15:00  2800.0     124.0     198.2  HO2309   2740.44   \n334  2023-02-07 15:00  2900.0       NaN       NaN  HO2309   2740.44   \n335  2023-02-07 15:00  3000.0       NaN       NaN  HO2309   2740.44   \n336  2023-02-07 15:00  3100.0      46.0       NaN  HO2309   2740.44   \n337  2023-02-07 15:00  3200.0      34.4       NaN  HO2309   2740.44   \n\n           到期日期  \n0    2023-12-15  \n1    2023-12-15  \n2    2023-12-15  \n3    2023-12-15  \n4    2023-12-15  \n..          ...  \n333  2023-09-15  \n334  2023-09-15  \n335  2023-09-15  \n336  2023-09-15  \n337  2023-09-15  \n\n[338 rows x 7 columns]",
      "text/html": "<div>\n<style scoped>\n    .dataframe tbody tr th:only-of-type {\n        vertical-align: middle;\n    }\n\n    .dataframe tbody tr th {\n        vertical-align: top;\n    }\n\n    .dataframe thead th {\n        text-align: right;\n    }\n</style>\n<table border=\"1\" class=\"dataframe\">\n  <thead>\n    <tr style=\"text-align: right;\">\n      <th></th>\n      <th>日期</th>\n      <th>行权价</th>\n      <th>看涨合约-最新价</th>\n      <th>看跌合约-最新价</th>\n      <th>挂钩标的代码</th>\n      <th>挂钩标的-最新价</th>\n      <th>到期日期</th>\n    </tr>\n  </thead>\n  <tbody>\n    <tr>\n      <th>0</th>\n      <td>2023-02-07 15:00</td>\n      <td>3400.0</td>\n      <td>730.8</td>\n      <td>55.2</td>\n      <td>IO2312</td>\n      <td>4094.23</td>\n      <td>2023-12-15</td>\n    </tr>\n    <tr>\n      <th>1</th>\n      <td>2023-02-07 15:00</td>\n      <td>3500.0</td>\n      <td>648.0</td>\n      <td>69.0</td>\n      <td>IO2312</td>\n      <td>4094.23</td>\n      <td>2023-12-15</td>\n    </tr>\n    <tr>\n      <th>2</th>\n      <td>2023-02-07 15:00</td>\n      <td>3600.0</td>\n      <td>567.0</td>\n      <td>89.2</td>\n      <td>IO2312</td>\n      <td>4094.23</td>\n      <td>2023-12-15</td>\n    </tr>\n    <tr>\n      <th>3</th>\n      <td>2023-02-07 15:00</td>\n      <td>3700.0</td>\n      <td>501.0</td>\n      <td>111.8</td>\n      <td>IO2312</td>\n      <td>4094.23</td>\n      <td>2023-12-15</td>\n    </tr>\n    <tr>\n      <th>4</th>\n      <td>2023-02-07 15:00</td>\n      <td>3800.0</td>\n      <td>NaN</td>\n      <td>141.2</td>\n      <td>IO2312</td>\n      <td>4094.23</td>\n      <td>2023-12-15</td>\n    </tr>\n    <tr>\n      <th>...</th>\n      <td>...</td>\n      <td>...</td>\n      <td>...</td>\n      <td>...</td>\n      <td>...</td>\n      <td>...</td>\n      <td>...</td>\n    </tr>\n    <tr>\n      <th>333</th>\n      <td>2023-02-07 15:00</td>\n      <td>2800.0</td>\n      <td>124.0</td>\n      <td>198.2</td>\n      <td>HO2309</td>\n      <td>2740.44</td>\n      <td>2023-09-15</td>\n    </tr>\n    <tr>\n      <th>334</th>\n      <td>2023-02-07 15:00</td>\n      <td>2900.0</td>\n      <td>NaN</td>\n      <td>NaN</td>\n      <td>HO2309</td>\n      <td>2740.44</td>\n      <td>2023-09-15</td>\n    </tr>\n    <tr>\n      <th>335</th>\n      <td>2023-02-07 15:00</td>\n      <td>3000.0</td>\n      <td>NaN</td>\n      <td>NaN</td>\n      <td>HO2309</td>\n      <td>2740.44</td>\n      <td>2023-09-15</td>\n    </tr>\n    <tr>\n      <th>336</th>\n      <td>2023-02-07 15:00</td>\n      <td>3100.0</td>\n      <td>46.0</td>\n      <td>NaN</td>\n      <td>HO2309</td>\n      <td>2740.44</td>\n      <td>2023-09-15</td>\n    </tr>\n    <tr>\n      <th>337</th>\n      <td>2023-02-07 15:00</td>\n      <td>3200.0</td>\n      <td>34.4</td>\n      <td>NaN</td>\n      <td>HO2309</td>\n      <td>2740.44</td>\n      <td>2023-09-15</td>\n    </tr>\n  </tbody>\n</table>\n<p>338 rows × 7 columns</p>\n</div>"
     },
     "execution_count": 6,
     "metadata": {},
     "output_type": "execute_result"
    }
   ],
   "source": [
    "optshare.get_financial_option_quotes(exchange_name = 'cffex')"
   ],
   "metadata": {
    "collapsed": false
   }
  },
  {
   "cell_type": "code",
   "execution_count": 6,
   "outputs": [],
   "source": [],
   "metadata": {
    "collapsed": false
   }
  },
  {
   "cell_type": "code",
   "execution_count": 6,
   "outputs": [],
   "source": [],
   "metadata": {
    "collapsed": false
   }
  }
 ],
 "metadata": {
  "kernelspec": {
   "display_name": "Python 3",
   "language": "python",
   "name": "python3"
  },
  "language_info": {
   "codemirror_mode": {
    "name": "ipython",
    "version": 2
   },
   "file_extension": ".py",
   "mimetype": "text/x-python",
   "name": "python",
   "nbconvert_exporter": "python",
   "pygments_lexer": "ipython2",
   "version": "2.7.6"
  }
 },
 "nbformat": 4,
 "nbformat_minor": 0
}
