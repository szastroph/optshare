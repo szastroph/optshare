{
 "cells": [
  {
   "cell_type": "markdown",
   "source": [
    "# 金融期权T型报价"
   ],
   "metadata": {
    "collapsed": false
   }
  },
  {
   "cell_type": "markdown",
   "source": [
    "## ETF期权\n",
    "### 上交所ETF期权T型报价"
   ],
   "metadata": {
    "collapsed": false
   }
  },
  {
   "cell_type": "code",
   "execution_count": 4,
   "outputs": [
    {
     "name": "stdout",
     "output_type": "stream",
     "text": [
      "fetch option quotes for  510050\n",
      "fetch option quotes for  510300\n",
      "fetch option quotes for  510500\n"
     ]
    },
    {
     "data": {
      "text/plain": "                   日期   行权价  看涨合约-最新价  看跌合约-最新价  挂钩标的代码  挂钩标的-最新价        到期日期\n0    2023-02-06 15:00  2.45    0.2931    0.0008  510050     2.739  2023-02-22\n1    2023-02-06 15:00  2.50    0.2431    0.0014  510050     2.739  2023-02-22\n2    2023-02-06 15:00  2.55    0.1951    0.0033  510050     2.739  2023-02-22\n3    2023-02-06 15:00  2.60    0.1484    0.0068  510050     2.739  2023-02-22\n4    2023-02-06 15:00  2.65    0.1057    0.0140  510050     2.739  2023-02-22\n..                ...   ...       ...       ...     ...       ...         ...\n206  2023-02-06 15:00  6.50    0.2641    0.4642  510500     6.328  2023-09-27\n207  2023-02-06 15:00  6.75    0.1818    0.5797  510500     6.328  2023-09-27\n208  2023-02-06 15:00  7.00    0.1272    0.7434  510500     6.328  2023-09-27\n209  2023-02-06 15:00  7.25    0.0880    1.0173  510500     6.328  2023-09-27\n210  2023-02-06 15:00  7.50    0.0597    1.2342  510500     6.328  2023-09-27\n\n[211 rows x 7 columns]",
      "text/html": "<div>\n<style scoped>\n    .dataframe tbody tr th:only-of-type {\n        vertical-align: middle;\n    }\n\n    .dataframe tbody tr th {\n        vertical-align: top;\n    }\n\n    .dataframe thead th {\n        text-align: right;\n    }\n</style>\n<table border=\"1\" class=\"dataframe\">\n  <thead>\n    <tr style=\"text-align: right;\">\n      <th></th>\n      <th>日期</th>\n      <th>行权价</th>\n      <th>看涨合约-最新价</th>\n      <th>看跌合约-最新价</th>\n      <th>挂钩标的代码</th>\n      <th>挂钩标的-最新价</th>\n      <th>到期日期</th>\n    </tr>\n  </thead>\n  <tbody>\n    <tr>\n      <th>0</th>\n      <td>2023-02-06 15:00</td>\n      <td>2.45</td>\n      <td>0.2931</td>\n      <td>0.0008</td>\n      <td>510050</td>\n      <td>2.739</td>\n      <td>2023-02-22</td>\n    </tr>\n    <tr>\n      <th>1</th>\n      <td>2023-02-06 15:00</td>\n      <td>2.50</td>\n      <td>0.2431</td>\n      <td>0.0014</td>\n      <td>510050</td>\n      <td>2.739</td>\n      <td>2023-02-22</td>\n    </tr>\n    <tr>\n      <th>2</th>\n      <td>2023-02-06 15:00</td>\n      <td>2.55</td>\n      <td>0.1951</td>\n      <td>0.0033</td>\n      <td>510050</td>\n      <td>2.739</td>\n      <td>2023-02-22</td>\n    </tr>\n    <tr>\n      <th>3</th>\n      <td>2023-02-06 15:00</td>\n      <td>2.60</td>\n      <td>0.1484</td>\n      <td>0.0068</td>\n      <td>510050</td>\n      <td>2.739</td>\n      <td>2023-02-22</td>\n    </tr>\n    <tr>\n      <th>4</th>\n      <td>2023-02-06 15:00</td>\n      <td>2.65</td>\n      <td>0.1057</td>\n      <td>0.0140</td>\n      <td>510050</td>\n      <td>2.739</td>\n      <td>2023-02-22</td>\n    </tr>\n    <tr>\n      <th>...</th>\n      <td>...</td>\n      <td>...</td>\n      <td>...</td>\n      <td>...</td>\n      <td>...</td>\n      <td>...</td>\n      <td>...</td>\n    </tr>\n    <tr>\n      <th>206</th>\n      <td>2023-02-06 15:00</td>\n      <td>6.50</td>\n      <td>0.2641</td>\n      <td>0.4642</td>\n      <td>510500</td>\n      <td>6.328</td>\n      <td>2023-09-27</td>\n    </tr>\n    <tr>\n      <th>207</th>\n      <td>2023-02-06 15:00</td>\n      <td>6.75</td>\n      <td>0.1818</td>\n      <td>0.5797</td>\n      <td>510500</td>\n      <td>6.328</td>\n      <td>2023-09-27</td>\n    </tr>\n    <tr>\n      <th>208</th>\n      <td>2023-02-06 15:00</td>\n      <td>7.00</td>\n      <td>0.1272</td>\n      <td>0.7434</td>\n      <td>510500</td>\n      <td>6.328</td>\n      <td>2023-09-27</td>\n    </tr>\n    <tr>\n      <th>209</th>\n      <td>2023-02-06 15:00</td>\n      <td>7.25</td>\n      <td>0.0880</td>\n      <td>1.0173</td>\n      <td>510500</td>\n      <td>6.328</td>\n      <td>2023-09-27</td>\n    </tr>\n    <tr>\n      <th>210</th>\n      <td>2023-02-06 15:00</td>\n      <td>7.50</td>\n      <td>0.0597</td>\n      <td>1.2342</td>\n      <td>510500</td>\n      <td>6.328</td>\n      <td>2023-09-27</td>\n    </tr>\n  </tbody>\n</table>\n<p>211 rows × 7 columns</p>\n</div>"
     },
     "execution_count": 4,
     "metadata": {},
     "output_type": "execute_result"
    }
   ],
   "source": [
    "import optshare\n",
    "optshare.get_financial_option_quotes(exchange_name = 'sse')"
   ],
   "metadata": {
    "collapsed": false
   }
  },
  {
   "cell_type": "markdown",
   "source": [
    "### 深交所ETF期权T型报价"
   ],
   "metadata": {
    "collapsed": false
   }
  },
  {
   "cell_type": "code",
   "execution_count": 5,
   "outputs": [
    {
     "name": "stdout",
     "output_type": "stream",
     "text": [
      "fetch option quotes for  159919\n",
      "fetch option quotes for  159922\n",
      "fetch option quotes for  159915\n"
     ]
    },
    {
     "data": {
      "text/plain": "                   日期   行权价  看涨合约-最新价  看跌合约-最新价  挂钩标的代码  挂钩标的-最新价        到期日期\n0    2023-02-06 15:00  3.50    0.6700    0.0003  159919     4.147  2023-02-22\n1    2023-02-06 15:00  3.60    0.5865    0.0005  159919     4.147  2023-02-22\n2    2023-02-06 15:00  3.70    0.4575    0.0010  159919     4.147  2023-02-22\n3    2023-02-06 15:00  3.80    0.3552    0.0024  159919     4.147  2023-02-22\n4    2023-02-06 15:00  3.90    0.2572    0.0062  159919     4.147  2023-02-22\n..                ...   ...       ...       ...     ...       ...         ...\n151  2023-02-06 15:00  2.55    0.1499    0.2149  159915     2.468  2023-09-27\n152  2023-02-06 15:00  2.60    0.1312    0.2452  159915     2.468  2023-09-27\n153  2023-02-06 15:00  2.65    0.1143    0.2814  159915     2.468  2023-09-27\n154  2023-02-06 15:00  2.70    0.0975       NaN  159915     2.468  2023-09-27\n155  2023-02-06 15:00  2.75    0.0850    0.3469  159915     2.468  2023-09-27\n\n[156 rows x 7 columns]",
      "text/html": "<div>\n<style scoped>\n    .dataframe tbody tr th:only-of-type {\n        vertical-align: middle;\n    }\n\n    .dataframe tbody tr th {\n        vertical-align: top;\n    }\n\n    .dataframe thead th {\n        text-align: right;\n    }\n</style>\n<table border=\"1\" class=\"dataframe\">\n  <thead>\n    <tr style=\"text-align: right;\">\n      <th></th>\n      <th>日期</th>\n      <th>行权价</th>\n      <th>看涨合约-最新价</th>\n      <th>看跌合约-最新价</th>\n      <th>挂钩标的代码</th>\n      <th>挂钩标的-最新价</th>\n      <th>到期日期</th>\n    </tr>\n  </thead>\n  <tbody>\n    <tr>\n      <th>0</th>\n      <td>2023-02-06 15:00</td>\n      <td>3.50</td>\n      <td>0.6700</td>\n      <td>0.0003</td>\n      <td>159919</td>\n      <td>4.147</td>\n      <td>2023-02-22</td>\n    </tr>\n    <tr>\n      <th>1</th>\n      <td>2023-02-06 15:00</td>\n      <td>3.60</td>\n      <td>0.5865</td>\n      <td>0.0005</td>\n      <td>159919</td>\n      <td>4.147</td>\n      <td>2023-02-22</td>\n    </tr>\n    <tr>\n      <th>2</th>\n      <td>2023-02-06 15:00</td>\n      <td>3.70</td>\n      <td>0.4575</td>\n      <td>0.0010</td>\n      <td>159919</td>\n      <td>4.147</td>\n      <td>2023-02-22</td>\n    </tr>\n    <tr>\n      <th>3</th>\n      <td>2023-02-06 15:00</td>\n      <td>3.80</td>\n      <td>0.3552</td>\n      <td>0.0024</td>\n      <td>159919</td>\n      <td>4.147</td>\n      <td>2023-02-22</td>\n    </tr>\n    <tr>\n      <th>4</th>\n      <td>2023-02-06 15:00</td>\n      <td>3.90</td>\n      <td>0.2572</td>\n      <td>0.0062</td>\n      <td>159919</td>\n      <td>4.147</td>\n      <td>2023-02-22</td>\n    </tr>\n    <tr>\n      <th>...</th>\n      <td>...</td>\n      <td>...</td>\n      <td>...</td>\n      <td>...</td>\n      <td>...</td>\n      <td>...</td>\n      <td>...</td>\n    </tr>\n    <tr>\n      <th>151</th>\n      <td>2023-02-06 15:00</td>\n      <td>2.55</td>\n      <td>0.1499</td>\n      <td>0.2149</td>\n      <td>159915</td>\n      <td>2.468</td>\n      <td>2023-09-27</td>\n    </tr>\n    <tr>\n      <th>152</th>\n      <td>2023-02-06 15:00</td>\n      <td>2.60</td>\n      <td>0.1312</td>\n      <td>0.2452</td>\n      <td>159915</td>\n      <td>2.468</td>\n      <td>2023-09-27</td>\n    </tr>\n    <tr>\n      <th>153</th>\n      <td>2023-02-06 15:00</td>\n      <td>2.65</td>\n      <td>0.1143</td>\n      <td>0.2814</td>\n      <td>159915</td>\n      <td>2.468</td>\n      <td>2023-09-27</td>\n    </tr>\n    <tr>\n      <th>154</th>\n      <td>2023-02-06 15:00</td>\n      <td>2.70</td>\n      <td>0.0975</td>\n      <td>NaN</td>\n      <td>159915</td>\n      <td>2.468</td>\n      <td>2023-09-27</td>\n    </tr>\n    <tr>\n      <th>155</th>\n      <td>2023-02-06 15:00</td>\n      <td>2.75</td>\n      <td>0.0850</td>\n      <td>0.3469</td>\n      <td>159915</td>\n      <td>2.468</td>\n      <td>2023-09-27</td>\n    </tr>\n  </tbody>\n</table>\n<p>156 rows × 7 columns</p>\n</div>"
     },
     "execution_count": 5,
     "metadata": {},
     "output_type": "execute_result"
    }
   ],
   "source": [
    "optshare.get_financial_option_quotes(exchange_name = 'szse')"
   ],
   "metadata": {
    "collapsed": false
   }
  },
  {
   "cell_type": "markdown",
   "source": [
    "## 股指期权"
   ],
   "metadata": {
    "collapsed": false
   }
  },
  {
   "cell_type": "code",
   "execution_count": 6,
   "outputs": [
    {
     "name": "stdout",
     "output_type": "stream",
     "text": [
      "fetch option quotes for  000300\n",
      "fetch option quotes for  000852\n",
      "fetch option quotes for  000016\n"
     ]
    },
    {
     "data": {
      "text/plain": "                   日期     行权价  看涨合约-最新价  看跌合约-最新价  挂钩标的代码  挂钩标的-最新价  \\\n0    2023-02-06 15:00  3400.0     725.4      56.6  000300   4086.88   \n1    2023-02-06 15:00  3500.0     647.4      73.0  000300   4086.88   \n2    2023-02-06 15:00  3600.0       NaN      91.2  000300   4086.88   \n3    2023-02-06 15:00  3700.0     500.0     116.6  000300   4086.88   \n4    2023-02-06 15:00  3800.0     429.8     144.6  000300   4086.88   \n..                ...     ...       ...       ...     ...       ...   \n331  2023-02-06 15:00  2800.0     124.4     202.0  000016   2735.00   \n332  2023-02-06 15:00  2900.0       NaN     268.6  000016   2735.00   \n333  2023-02-06 15:00  3000.0      67.8     342.8  000016   2735.00   \n334  2023-02-06 15:00  3100.0      49.2       NaN  000016   2735.00   \n335  2023-02-06 15:00  3200.0      36.0     518.8  000016   2735.00   \n\n           到期日期  \n0    2023-12-15  \n1    2023-12-15  \n2    2023-12-15  \n3    2023-12-15  \n4    2023-12-15  \n..          ...  \n331  2023-09-15  \n332  2023-09-15  \n333  2023-09-15  \n334  2023-09-15  \n335  2023-09-15  \n\n[336 rows x 7 columns]",
      "text/html": "<div>\n<style scoped>\n    .dataframe tbody tr th:only-of-type {\n        vertical-align: middle;\n    }\n\n    .dataframe tbody tr th {\n        vertical-align: top;\n    }\n\n    .dataframe thead th {\n        text-align: right;\n    }\n</style>\n<table border=\"1\" class=\"dataframe\">\n  <thead>\n    <tr style=\"text-align: right;\">\n      <th></th>\n      <th>日期</th>\n      <th>行权价</th>\n      <th>看涨合约-最新价</th>\n      <th>看跌合约-最新价</th>\n      <th>挂钩标的代码</th>\n      <th>挂钩标的-最新价</th>\n      <th>到期日期</th>\n    </tr>\n  </thead>\n  <tbody>\n    <tr>\n      <th>0</th>\n      <td>2023-02-06 15:00</td>\n      <td>3400.0</td>\n      <td>725.4</td>\n      <td>56.6</td>\n      <td>000300</td>\n      <td>4086.88</td>\n      <td>2023-12-15</td>\n    </tr>\n    <tr>\n      <th>1</th>\n      <td>2023-02-06 15:00</td>\n      <td>3500.0</td>\n      <td>647.4</td>\n      <td>73.0</td>\n      <td>000300</td>\n      <td>4086.88</td>\n      <td>2023-12-15</td>\n    </tr>\n    <tr>\n      <th>2</th>\n      <td>2023-02-06 15:00</td>\n      <td>3600.0</td>\n      <td>NaN</td>\n      <td>91.2</td>\n      <td>000300</td>\n      <td>4086.88</td>\n      <td>2023-12-15</td>\n    </tr>\n    <tr>\n      <th>3</th>\n      <td>2023-02-06 15:00</td>\n      <td>3700.0</td>\n      <td>500.0</td>\n      <td>116.6</td>\n      <td>000300</td>\n      <td>4086.88</td>\n      <td>2023-12-15</td>\n    </tr>\n    <tr>\n      <th>4</th>\n      <td>2023-02-06 15:00</td>\n      <td>3800.0</td>\n      <td>429.8</td>\n      <td>144.6</td>\n      <td>000300</td>\n      <td>4086.88</td>\n      <td>2023-12-15</td>\n    </tr>\n    <tr>\n      <th>...</th>\n      <td>...</td>\n      <td>...</td>\n      <td>...</td>\n      <td>...</td>\n      <td>...</td>\n      <td>...</td>\n      <td>...</td>\n    </tr>\n    <tr>\n      <th>331</th>\n      <td>2023-02-06 15:00</td>\n      <td>2800.0</td>\n      <td>124.4</td>\n      <td>202.0</td>\n      <td>000016</td>\n      <td>2735.00</td>\n      <td>2023-09-15</td>\n    </tr>\n    <tr>\n      <th>332</th>\n      <td>2023-02-06 15:00</td>\n      <td>2900.0</td>\n      <td>NaN</td>\n      <td>268.6</td>\n      <td>000016</td>\n      <td>2735.00</td>\n      <td>2023-09-15</td>\n    </tr>\n    <tr>\n      <th>333</th>\n      <td>2023-02-06 15:00</td>\n      <td>3000.0</td>\n      <td>67.8</td>\n      <td>342.8</td>\n      <td>000016</td>\n      <td>2735.00</td>\n      <td>2023-09-15</td>\n    </tr>\n    <tr>\n      <th>334</th>\n      <td>2023-02-06 15:00</td>\n      <td>3100.0</td>\n      <td>49.2</td>\n      <td>NaN</td>\n      <td>000016</td>\n      <td>2735.00</td>\n      <td>2023-09-15</td>\n    </tr>\n    <tr>\n      <th>335</th>\n      <td>2023-02-06 15:00</td>\n      <td>3200.0</td>\n      <td>36.0</td>\n      <td>518.8</td>\n      <td>000016</td>\n      <td>2735.00</td>\n      <td>2023-09-15</td>\n    </tr>\n  </tbody>\n</table>\n<p>336 rows × 7 columns</p>\n</div>"
     },
     "execution_count": 6,
     "metadata": {},
     "output_type": "execute_result"
    }
   ],
   "source": [
    "optshare.get_financial_option_quotes(exchange_name = 'cffex')"
   ],
   "metadata": {
    "collapsed": false
   }
  }
 ],
 "metadata": {
  "kernelspec": {
   "display_name": "Python 3",
   "language": "python",
   "name": "python3"
  },
  "language_info": {
   "codemirror_mode": {
    "name": "ipython",
    "version": 2
   },
   "file_extension": ".py",
   "mimetype": "text/x-python",
   "name": "python",
   "nbconvert_exporter": "python",
   "pygments_lexer": "ipython2",
   "version": "2.7.6"
  }
 },
 "nbformat": 4,
 "nbformat_minor": 0
}
